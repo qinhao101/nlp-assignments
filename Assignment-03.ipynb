{
 "cells": [
  {
   "cell_type": "markdown",
   "metadata": {},
   "source": [
    "## Lecture-03 Gradient Descent and Dymanic Programming"
   ]
  },
  {
   "cell_type": "markdown",
   "metadata": {},
   "source": [
    "In this week, we need complete following tasks:\n",
    "+ Re-review the course online programming; \n",
    "+ Choose 1 - 2 books which you interested and keep reading; \n",
    "+ Answer the review questions\n",
    "+ Prepare the basic requirement of our 1st project. "
   ]
  },
  {
   "cell_type": "markdown",
   "metadata": {},
   "source": [
    "### Part I Review the online programming. "
   ]
  },
  {
   "cell_type": "code",
   "execution_count": 51,
   "metadata": {},
   "outputs": [],
   "source": [
    "from collections import defaultdict\n",
    "from functools import wraps\n",
    "original_price = [1, 5, 8, 9, 10, 17, 17, 20, 24, 30, 35]\n",
    "price = defaultdict(int)"
   ]
  },
  {
   "cell_type": "code",
   "execution_count": 52,
   "metadata": {},
   "outputs": [],
   "source": [
    "for i,p in enumerate(original_price):\n",
    "    price[i+1] = p"
   ]
  },
  {
   "cell_type": "code",
   "execution_count": 53,
   "metadata": {},
   "outputs": [
    {
     "data": {
      "text/plain": [
       "35"
      ]
     },
     "execution_count": 53,
     "metadata": {},
     "output_type": "execute_result"
    }
   ],
   "source": [
    "price[11]"
   ]
  },
  {
   "cell_type": "code",
   "execution_count": 177,
   "metadata": {},
   "outputs": [],
   "source": [
    "already_computed = {}"
   ]
  },
  {
   "cell_type": "code",
   "execution_count": 178,
   "metadata": {},
   "outputs": [],
   "source": [
    "def memo(f):\n",
    "    @wraps(f)\n",
    "    def _wrap(arg):\n",
    "        result = None\n",
    "        if arg in already_computed:\n",
    "            result = already_computed[arg]\n",
    "        else:\n",
    "            result = f(arg)\n",
    "            already_computed[arg] = result\n",
    "        return result\n",
    "    return _wrap"
   ]
  },
  {
   "cell_type": "code",
   "execution_count": 63,
   "metadata": {},
   "outputs": [],
   "source": [
    "@memo\n",
    "def r1(n):\n",
    "    return max([price[n]] + [r1(i) + r1(n-i) for i in range(1,n)])"
   ]
  },
  {
   "cell_type": "code",
   "execution_count": 156,
   "metadata": {},
   "outputs": [
    {
     "data": {
      "text/plain": [
       "57"
      ]
     },
     "execution_count": 156,
     "metadata": {},
     "output_type": "execute_result"
    }
   ],
   "source": [
    "r1(19)"
   ]
  },
  {
   "cell_type": "code",
   "execution_count": 187,
   "metadata": {},
   "outputs": [],
   "source": [
    "solution = {}"
   ]
  },
  {
   "cell_type": "code",
   "execution_count": 192,
   "metadata": {},
   "outputs": [],
   "source": [
    "from functools import lru_cache\n",
    "@lru_cache(maxsize=2**10)\n",
    "def r2(n):\n",
    "    max_price,max_split = max(\n",
    "        [(price[n],0)] + [(r2(i) + r2(n-i), i) for i in range(1,n)], key=lambda x:x[0]\n",
    "    )\n",
    "    solution[n] = (n - max_split,max_split)\n",
    "    return max_price"
   ]
  },
  {
   "cell_type": "code",
   "execution_count": 205,
   "metadata": {},
   "outputs": [
    {
     "data": {
      "text/plain": [
       "71"
      ]
     },
     "execution_count": 205,
     "metadata": {},
     "output_type": "execute_result"
    }
   ],
   "source": [
    "r2(23)"
   ]
  },
  {
   "cell_type": "code",
   "execution_count": 206,
   "metadata": {},
   "outputs": [
    {
     "name": "stdout",
     "output_type": "stream",
     "text": [
      "{1: 1, 2: 5, 3: 8, 4: 10, 5: 13, 6: 17, 7: 18, 8: 22}\n"
     ]
    }
   ],
   "source": [
    "print(already_computed)"
   ]
  },
  {
   "cell_type": "code",
   "execution_count": 207,
   "metadata": {},
   "outputs": [
    {
     "data": {
      "text/plain": [
       "{1: (1, 0),\n",
       " 2: (2, 0),\n",
       " 3: (3, 0),\n",
       " 4: (2, 2),\n",
       " 5: (3, 2),\n",
       " 6: (6, 0),\n",
       " 7: (6, 1),\n",
       " 8: (6, 2),\n",
       " 9: (6, 3),\n",
       " 10: (10, 0),\n",
       " 11: (11, 0),\n",
       " 12: (11, 1),\n",
       " 13: (11, 2),\n",
       " 14: (11, 3),\n",
       " 15: (13, 2),\n",
       " 16: (14, 2),\n",
       " 17: (11, 6),\n",
       " 18: (17, 1),\n",
       " 19: (17, 2),\n",
       " 20: (17, 3),\n",
       " 21: (11, 10),\n",
       " 22: (11, 11),\n",
       " 23: (22, 1)}"
      ]
     },
     "execution_count": 207,
     "metadata": {},
     "output_type": "execute_result"
    }
   ],
   "source": [
    "solution"
   ]
  },
  {
   "cell_type": "code",
   "execution_count": 208,
   "metadata": {},
   "outputs": [],
   "source": [
    "def parse_solution(n):\n",
    "    left,right = solution[n]\n",
    "    if right == 0: return [left]\n",
    "    return parse_solution(left)+parse_solution(right)"
   ]
  },
  {
   "cell_type": "code",
   "execution_count": 210,
   "metadata": {},
   "outputs": [
    {
     "data": {
      "text/plain": [
       "[11, 11, 1]"
      ]
     },
     "execution_count": 210,
     "metadata": {},
     "output_type": "execute_result"
    }
   ],
   "source": [
    "parse_solution(23)"
   ]
  },
  {
   "cell_type": "markdown",
   "metadata": {},
   "source": [
    "### Part 2: change loss function from $loss = \\frac{1}{n}\\sum{(y_i - \\hat(y_i))^2}$ to $loss = \\frac{1}{n}\\sum{|y_i - \\hat{y_i}|}$, and using your mathmatical knowledge to get the right partial formual. Implemen the gradient descent code.\n",
    "在第二次作业中已经实现"
   ]
  },
  {
   "cell_type": "markdown",
   "metadata": {},
   "source": [
    "### Part 3: Finish the Solution Parse Part of Edit-Distance"
   ]
  },
  {
   "cell_type": "code",
   "execution_count": 1,
   "metadata": {},
   "outputs": [],
   "source": [
    "solution2 = {}"
   ]
  },
  {
   "cell_type": "code",
   "execution_count": 2,
   "metadata": {},
   "outputs": [],
   "source": [
    "from functools import lru_cache\n",
    "@lru_cache(maxsize=2**10)\n",
    "def edit_distance(string1, string2):\n",
    "    \n",
    "    if len(string1) == 0: return len(string2)\n",
    "    if len(string2) == 0: return len(string1)\n",
    "    \n",
    "    tail_s1 = string1[-1]\n",
    "    tail_s2 = string2[-1]\n",
    "    \n",
    "    candidates = [\n",
    "        (edit_distance(string1[:-1], string2) + 1, 'DEL {}'.format(tail_s1)),\n",
    "        (edit_distance(string1, string2[:-1]) + 1, 'ADD {}'.format(tail_s2)),\n",
    "    ]\n",
    "    \n",
    "    if tail_s1 == tail_s2:\n",
    "        both_forward = (edit_distance(string1[:-1], string2[:-1]) + 0, '')\n",
    "    else:\n",
    "        both_forward = (edit_distance(string1[:-1], string2[:-1]) + 1, 'SUB {} => {}'.format(tail_s1, tail_s2))\n",
    "\n",
    "    candidates.append(both_forward)\n",
    "    \n",
    "    min_distance, operation = min(candidates, key=lambda x: x[0])\n",
    "    \n",
    "    solution2[(string1, string2)] = operation \n",
    "    \n",
    "    return min_distance"
   ]
  },
  {
   "cell_type": "code",
   "execution_count": 3,
   "metadata": {},
   "outputs": [
    {
     "data": {
      "text/plain": [
       "2"
      ]
     },
     "execution_count": 3,
     "metadata": {},
     "output_type": "execute_result"
    }
   ],
   "source": [
    "edit_distance('ABCDE', 'ABCCEF')"
   ]
  },
  {
   "cell_type": "code",
   "execution_count": 4,
   "metadata": {},
   "outputs": [
    {
     "data": {
      "text/plain": [
       "{('A', 'A'): '',\n",
       " ('A', 'AB'): 'ADD B',\n",
       " ('A', 'ABC'): 'ADD C',\n",
       " ('A', 'ABCC'): 'ADD C',\n",
       " ('A', 'ABCCE'): 'ADD E',\n",
       " ('A', 'ABCCEF'): 'ADD F',\n",
       " ('AB', 'A'): 'DEL B',\n",
       " ('AB', 'AB'): '',\n",
       " ('AB', 'ABC'): 'ADD C',\n",
       " ('AB', 'ABCC'): 'ADD C',\n",
       " ('AB', 'ABCCE'): 'ADD E',\n",
       " ('AB', 'ABCCEF'): 'ADD F',\n",
       " ('ABC', 'A'): 'DEL C',\n",
       " ('ABC', 'AB'): 'DEL C',\n",
       " ('ABC', 'ABC'): '',\n",
       " ('ABC', 'ABCC'): 'ADD C',\n",
       " ('ABC', 'ABCCE'): 'ADD E',\n",
       " ('ABC', 'ABCCEF'): 'ADD F',\n",
       " ('ABCD', 'A'): 'DEL D',\n",
       " ('ABCD', 'AB'): 'DEL D',\n",
       " ('ABCD', 'ABC'): 'DEL D',\n",
       " ('ABCD', 'ABCC'): 'SUB D => C',\n",
       " ('ABCD', 'ABCCE'): 'ADD E',\n",
       " ('ABCD', 'ABCCEF'): 'ADD F',\n",
       " ('ABCDE', 'A'): 'DEL E',\n",
       " ('ABCDE', 'AB'): 'DEL E',\n",
       " ('ABCDE', 'ABC'): 'DEL E',\n",
       " ('ABCDE', 'ABCC'): 'DEL E',\n",
       " ('ABCDE', 'ABCCE'): '',\n",
       " ('ABCDE', 'ABCCEF'): 'ADD F'}"
      ]
     },
     "execution_count": 4,
     "metadata": {},
     "output_type": "execute_result"
    }
   ],
   "source": [
    "solution2"
   ]
  },
  {
   "cell_type": "code",
   "execution_count": 5,
   "metadata": {},
   "outputs": [],
   "source": [
    "def stop_edit(string1, string2): return string1 == string2\n",
    "\n",
    "\n",
    "# now we look for solutions in the \"solution\" dictionary\n",
    "\n",
    "def parse_solution(string1, string2, solution_dic):\n",
    "    \n",
    "    parsed_solutions = [] \n",
    "    \n",
    "    while not stop_edit(string1, string2):\n",
    "        operation = solution_dic[(string1, string2)] # \"查表\" 过程\n",
    "        \n",
    "        if 'SUB' in operation:\n",
    "            string1, string2 = string1[:-1], string2[:-1] \n",
    "            # if substitution, both forward and compare\n",
    "        elif operation == '':\n",
    "            string1, string2 = string1[:-1], string2[:-1]\n",
    "            # if no edits, both forward and compare\n",
    "        elif 'DEL' in operation:\n",
    "            string1, string2 = string1[:-1], string2 \n",
    "            # delete tail of string1 and then compare\n",
    "        elif 'ADD' in operation:\n",
    "            string1, string2 = string1, string2[:-1] \n",
    "            # delete tail of string2 and then compare\n",
    "        \n",
    "        parsed_solutions.append(operation)\n",
    "    \n",
    "    return parsed_solutions"
   ]
  },
  {
   "cell_type": "code",
   "execution_count": 6,
   "metadata": {},
   "outputs": [
    {
     "data": {
      "text/plain": [
       "5"
      ]
     },
     "execution_count": 6,
     "metadata": {},
     "output_type": "execute_result"
    }
   ],
   "source": [
    "edit_distance('BEIJING', 'TIANJIN')"
   ]
  },
  {
   "cell_type": "code",
   "execution_count": 7,
   "metadata": {},
   "outputs": [
    {
     "data": {
      "text/plain": [
       "{('A', 'A'): '',\n",
       " ('A', 'AB'): 'ADD B',\n",
       " ('A', 'ABC'): 'ADD C',\n",
       " ('A', 'ABCC'): 'ADD C',\n",
       " ('A', 'ABCCE'): 'ADD E',\n",
       " ('A', 'ABCCEF'): 'ADD F',\n",
       " ('AB', 'A'): 'DEL B',\n",
       " ('AB', 'AB'): '',\n",
       " ('AB', 'ABC'): 'ADD C',\n",
       " ('AB', 'ABCC'): 'ADD C',\n",
       " ('AB', 'ABCCE'): 'ADD E',\n",
       " ('AB', 'ABCCEF'): 'ADD F',\n",
       " ('ABC', 'A'): 'DEL C',\n",
       " ('ABC', 'AB'): 'DEL C',\n",
       " ('ABC', 'ABC'): '',\n",
       " ('ABC', 'ABCC'): 'ADD C',\n",
       " ('ABC', 'ABCCE'): 'ADD E',\n",
       " ('ABC', 'ABCCEF'): 'ADD F',\n",
       " ('ABCD', 'A'): 'DEL D',\n",
       " ('ABCD', 'AB'): 'DEL D',\n",
       " ('ABCD', 'ABC'): 'DEL D',\n",
       " ('ABCD', 'ABCC'): 'SUB D => C',\n",
       " ('ABCD', 'ABCCE'): 'ADD E',\n",
       " ('ABCD', 'ABCCEF'): 'ADD F',\n",
       " ('ABCDE', 'A'): 'DEL E',\n",
       " ('ABCDE', 'AB'): 'DEL E',\n",
       " ('ABCDE', 'ABC'): 'DEL E',\n",
       " ('ABCDE', 'ABCC'): 'DEL E',\n",
       " ('ABCDE', 'ABCCE'): '',\n",
       " ('ABCDE', 'ABCCEF'): 'ADD F',\n",
       " ('B', 'T'): 'SUB B => T',\n",
       " ('B', 'TI'): 'ADD I',\n",
       " ('B', 'TIA'): 'ADD A',\n",
       " ('B', 'TIAN'): 'ADD N',\n",
       " ('B', 'TIANJ'): 'ADD J',\n",
       " ('B', 'TIANJI'): 'ADD I',\n",
       " ('B', 'TIANJIN'): 'ADD N',\n",
       " ('BE', 'T'): 'DEL E',\n",
       " ('BE', 'TI'): 'SUB E => I',\n",
       " ('BE', 'TIA'): 'ADD A',\n",
       " ('BE', 'TIAN'): 'ADD N',\n",
       " ('BE', 'TIANJ'): 'ADD J',\n",
       " ('BE', 'TIANJI'): 'ADD I',\n",
       " ('BE', 'TIANJIN'): 'ADD N',\n",
       " ('BEI', 'T'): 'DEL I',\n",
       " ('BEI', 'TI'): '',\n",
       " ('BEI', 'TIA'): 'ADD A',\n",
       " ('BEI', 'TIAN'): 'ADD N',\n",
       " ('BEI', 'TIANJ'): 'ADD J',\n",
       " ('BEI', 'TIANJI'): '',\n",
       " ('BEI', 'TIANJIN'): 'ADD N',\n",
       " ('BEIJ', 'T'): 'DEL J',\n",
       " ('BEIJ', 'TI'): 'DEL J',\n",
       " ('BEIJ', 'TIA'): 'SUB J => A',\n",
       " ('BEIJ', 'TIAN'): 'ADD N',\n",
       " ('BEIJ', 'TIANJ'): '',\n",
       " ('BEIJ', 'TIANJI'): 'ADD I',\n",
       " ('BEIJ', 'TIANJIN'): 'ADD N',\n",
       " ('BEIJI', 'T'): 'DEL I',\n",
       " ('BEIJI', 'TI'): 'DEL I',\n",
       " ('BEIJI', 'TIA'): 'DEL I',\n",
       " ('BEIJI', 'TIAN'): 'SUB I => N',\n",
       " ('BEIJI', 'TIANJ'): 'DEL I',\n",
       " ('BEIJI', 'TIANJI'): '',\n",
       " ('BEIJI', 'TIANJIN'): 'ADD N',\n",
       " ('BEIJIN', 'T'): 'DEL N',\n",
       " ('BEIJIN', 'TI'): 'DEL N',\n",
       " ('BEIJIN', 'TIA'): 'DEL N',\n",
       " ('BEIJIN', 'TIAN'): '',\n",
       " ('BEIJIN', 'TIANJ'): 'ADD J',\n",
       " ('BEIJIN', 'TIANJI'): 'DEL N',\n",
       " ('BEIJIN', 'TIANJIN'): '',\n",
       " ('BEIJING', 'T'): 'DEL G',\n",
       " ('BEIJING', 'TI'): 'DEL G',\n",
       " ('BEIJING', 'TIA'): 'DEL G',\n",
       " ('BEIJING', 'TIAN'): 'DEL G',\n",
       " ('BEIJING', 'TIANJ'): 'SUB G => J',\n",
       " ('BEIJING', 'TIANJI'): 'DEL G',\n",
       " ('BEIJING', 'TIANJIN'): 'DEL G'}"
      ]
     },
     "execution_count": 7,
     "metadata": {},
     "output_type": "execute_result"
    }
   ],
   "source": [
    "solution2"
   ]
  },
  {
   "cell_type": "code",
   "execution_count": 8,
   "metadata": {},
   "outputs": [
    {
     "data": {
      "text/plain": [
       "['DEL G', '', '', '', 'ADD N', 'ADD A', '', 'DEL E', 'SUB B => T']"
      ]
     },
     "execution_count": 8,
     "metadata": {},
     "output_type": "execute_result"
    }
   ],
   "source": [
    "parse_solution(\"BEIJING\",\"TIANJIN\",solution2)"
   ]
  },
  {
   "cell_type": "markdown",
   "metadata": {},
   "source": [
    "### Part 4 Choose 1 - 2 books to keep reading: \n",
    "\n",
    "+ SICP, Structure and Interpretation of Computer Programming. \n",
    "+ Introduction to Algorithms \n",
    "+ Artificial Intelligence A Modern Approach (3rd Edition) \n",
    "+ Code Complete 2 \n",
    "+ Programming Pearls \n",
    "+ Deep Learning\n",
    "+ 黑客与画家\n",
    "+ 数学之美\n",
    "+ Fluent Python\n",
    "+ Hands on Tensorflow\n",
    "+ Conference: NIPS_ ICML_ ICLR_ ACL_ AAAI\n",
    "\n",
    "> most books you may find in our github: https://github.com/Computing-Intelligence/References"
   ]
  },
  {
   "cell_type": "markdown",
   "metadata": {},
   "source": [
    "## Part 5-1: review machine learning"
   ]
  },
  {
   "cell_type": "markdown",
   "metadata": {},
   "source": [
    "1. Why do we use Derivative / Gredient to fit a target function?¶"
   ]
  },
  {
   "cell_type": "markdown",
   "metadata": {},
   "source": [
    "Ans:找到函数变化的趋势，更快的逼近最优结果"
   ]
  },
  {
   "cell_type": "markdown",
   "metadata": {},
   "source": [
    "2. In the words 'Gredient Descent', what's the Gredient and what's the Descent?¶"
   ]
  },
  {
   "cell_type": "markdown",
   "metadata": {},
   "source": [
    "Ans:对多元函数的参数求∂偏导数，把求得的各个参数的偏导数以向量的形式写出来，就是梯度,梯度的方向就是函数在给定点变化最快的方向，下降就是减小最快的方向"
   ]
  },
  {
   "cell_type": "markdown",
   "metadata": {},
   "source": [
    "\n",
    "3. What's the advantages of the 3rd gradient descent method compared to the previous methods?"
   ]
  },
  {
   "cell_type": "markdown",
   "metadata": {},
   "source": [
    "Ans:可以捕获好的变化趋势，并一直朝好的方向靠近"
   ]
  },
  {
   "cell_type": "markdown",
   "metadata": {},
   "source": [
    "4. Using the simple words to describe: What's the machine leanring.¶"
   ]
  },
  {
   "cell_type": "markdown",
   "metadata": {},
   "source": [
    "Ans:根据已有数据，计算出某件事情的决策方法"
   ]
  },
  {
   "cell_type": "markdown",
   "metadata": {},
   "source": [
    "### Part 5: Answer following questions: "
   ]
  },
  {
   "cell_type": "markdown",
   "metadata": {},
   "source": [
    "1. Why do we need dynamic programming? What's the difference of dynamic programming and previous talked `search` problme? \n",
    "\n",
    "动态规划适用于有重复子问题和最优子结构的情况，将重复的计算变成更快的查表；搜索是对对象的查找，涉及不同的搜索方式"
   ]
  },
  {
   "cell_type": "markdown",
   "metadata": {},
   "source": [
    "2. Why do we still need dynamic programming? Why not we train a machine learning to fit a function which could get the `right` answer based on inputs?\n",
    "\n",
    "动态规划是一种解决特定问题的数学方法，并不是针对某种具体情况，所以没有固定的input来用来训练出一个function来解决具体问题"
   ]
  },
  {
   "cell_type": "markdown",
   "metadata": {},
   "source": [
    "3. Can you catch up at least 3 problems which could solved by Dynamic Programming? \n",
    "\n",
    "背包问题，旅行商问题，Fibonacci数列"
   ]
  },
  {
   "cell_type": "markdown",
   "metadata": {},
   "source": [
    "4. Can you catch up at least 3 problems wich could sloved by Edit Distance? \n",
    "\n",
    "拼写纠正，联想输入，相似内容推荐"
   ]
  },
  {
   "cell_type": "markdown",
   "metadata": {},
   "source": [
    "5. Please summarize the three main features of Dynamic Programming, and make a concise explain for each feature. \n",
    "\n",
    "最优子结构：一个最优化策略的子策略总是最优的\n",
    "无后效性：对于某个给定的阶段状态，它以前各阶段的状态无法直接影响它未来的决策，而只能通过当前的这个状态。\n",
    "重复子问题：解决问题的每一步都包含之前步骤中已经处理过的问题"
   ]
  },
  {
   "cell_type": "markdown",
   "metadata": {},
   "source": [
    "6. What's the disadvantages of Dynamic Programming? (You may need search by yourself in Internet)\n",
    "\n",
    "动态规划将原来具有指数级时间复杂度的搜索算法改进成了具有多项式时间复杂度的算法，键在于解决冗余，这是动态规划算法的根本目的。动态规划实质上是一种以空间换时间的技术，它在实现的过程中，不得不存储产生过程中的各种状态，所以它的空间复杂度要大于其它的算法。"
   ]
  },
  {
   "cell_type": "markdown",
   "metadata": {},
   "source": [
    "## Part 6 Preparation of Project-01"
   ]
  },
  {
   "cell_type": "markdown",
   "metadata": {},
   "source": [
    "1. Using python Flask or Bottle to finish your first simple web app:\n",
    "> https://bottlepy.org/\n",
    "\n",
    "2. Learn what's the SQL, and try some simple SQL operations:\n",
    "> https://www.w3schools.com/sql/sql_intro.asp\n",
    "\n",
    "3. Learn what's the HTML ( *ONLY* need to know the basic things)\n",
    "> https://getbootstrap.com/; https://www.w3schools.com/html/"
   ]
  },
  {
   "cell_type": "markdown",
   "metadata": {},
   "source": [
    "### (Optinal) Finish the k-person-salesman problem:"
   ]
  },
  {
   "cell_type": "code",
   "execution_count": 4,
   "metadata": {},
   "outputs": [],
   "source": [
    "import random\n",
    "import matplotlib.pylab as plt"
   ]
  },
  {
   "cell_type": "code",
   "execution_count": 178,
   "metadata": {},
   "outputs": [],
   "source": [
    "latitudes = [random.randint(-100, 100) for _ in range(11)]\n",
    "longitude = [random.randint(-100, 100) for _ in range(11)]"
   ]
  },
  {
   "cell_type": "code",
   "execution_count": 179,
   "metadata": {},
   "outputs": [
    {
     "data": {
      "text/plain": [
       "<matplotlib.collections.PathCollection at 0x1aea0bbb1d0>"
      ]
     },
     "execution_count": 179,
     "metadata": {},
     "output_type": "execute_result"
    },
    {
     "data": {
      "image/png": "[encoded data removed]",
      "text/plain": [
       "<Figure size 432x288 with 1 Axes>"
      ]
     },
     "metadata": {
      "needs_background": "light"
     },
     "output_type": "display_data"
    }
   ],
   "source": [
    "plt.scatter(latitudes, longitude)"
   ]
  },
  {
   "cell_type": "code",
   "execution_count": 180,
   "metadata": {},
   "outputs": [
    {
     "name": "stdout",
     "output_type": "stream",
     "text": [
      "[(-13, -74), (-2, -46), (17, 93), (-78, 89), (25, 29), (28, 19), (-55, -86), (-99, -91), (13, -25), (-14, 86), (-41, 24)]\n"
     ]
    }
   ],
   "source": [
    "print(list(zip(latitudes,longitude)))"
   ]
  },
  {
   "cell_type": "code",
   "execution_count": 181,
   "metadata": {},
   "outputs": [],
   "source": [
    "import math\n",
    "def distance(point_a,point_b):\n",
    "    x_a,y_a = point_a\n",
    "    x_b,y_b = point_b\n",
    "    return math.sqrt((x_a-x_a)**2+(y_a-y_b)**2)"
   ]
  },
  {
   "cell_type": "code",
   "execution_count": 182,
   "metadata": {},
   "outputs": [],
   "source": [
    "points = list(zip(latitudes,longitude))\n",
    "distance_matrix=[]\n",
    "distance_matrix=[[distance(a,b) for a in points]for b in points]"
   ]
  },
  {
   "cell_type": "code",
   "execution_count": 183,
   "metadata": {},
   "outputs": [
    {
     "name": "stdout",
     "output_type": "stream",
     "text": [
      "<class 'list'> 11\n"
     ]
    }
   ],
   "source": [
    "print(type(distance_matrix),len(distance_matrix))"
   ]
  },
  {
   "cell_type": "code",
   "execution_count": 184,
   "metadata": {},
   "outputs": [
    {
     "name": "stdout",
     "output_type": "stream",
     "text": [
      "[[0.0, 28.0, 167.0, 163.0, 103.0, 93.0, 12.0, 17.0, 49.0, 160.0, 98.0], [28.0, 0.0, 139.0, 135.0, 75.0, 65.0, 40.0, 45.0, 21.0, 132.0, 70.0], [167.0, 139.0, 0.0, 4.0, 64.0, 74.0, 179.0, 184.0, 118.0, 7.0, 69.0], [163.0, 135.0, 4.0, 0.0, 60.0, 70.0, 175.0, 180.0, 114.0, 3.0, 65.0], [103.0, 75.0, 64.0, 60.0, 0.0, 10.0, 115.0, 120.0, 54.0, 57.0, 5.0], [93.0, 65.0, 74.0, 70.0, 10.0, 0.0, 105.0, 110.0, 44.0, 67.0, 5.0], [12.0, 40.0, 179.0, 175.0, 115.0, 105.0, 0.0, 5.0, 61.0, 172.0, 110.0], [17.0, 45.0, 184.0, 180.0, 120.0, 110.0, 5.0, 0.0, 66.0, 177.0, 115.0], [49.0, 21.0, 118.0, 114.0, 54.0, 44.0, 61.0, 66.0, 0.0, 111.0, 49.0], [160.0, 132.0, 7.0, 3.0, 57.0, 67.0, 172.0, 177.0, 111.0, 0.0, 62.0], [98.0, 70.0, 69.0, 65.0, 5.0, 5.0, 110.0, 115.0, 49.0, 62.0, 0.0]]\n"
     ]
    }
   ],
   "source": [
    "print(distance_matrix)"
   ]
  },
  {
   "cell_type": "code",
   "execution_count": 185,
   "metadata": {},
   "outputs": [],
   "source": [
    "import random\n",
    "start = random.choice(points)\n",
    "points_set = set(points)\n",
    "points_set.remove(start)\n",
    "solution = []"
   ]
  },
  {
   "cell_type": "code",
   "execution_count": 186,
   "metadata": {},
   "outputs": [],
   "source": [
    "from functools import lru_cache\n",
    "\n",
    "class Solution:   #X为距离矩阵\n",
    "    def __init__(self,X,start_node):\n",
    "        self.X = X\n",
    "        self.start_node = start_node\n",
    "        self.array = [[0]*(2**len(self.X)) for i in range(len(self.X))]#记录处于x节点，未经历M个节点时，矩阵储存x的下一步是M中哪个节点\n",
    "    def transfer(self,sets):\n",
    "        su = 0\n",
    "        for s in sets:\n",
    "            su = su + 2**s # 二进制转换\n",
    "        return su\n",
    "    \n",
    "    def tsp(self):\n",
    "        s = self.start_node\n",
    "        num = len(self.X)\n",
    "        cities = [i for i in range(num)]\n",
    "        cities.pop(cities.index(s))  #从集合中去掉起始点，形成未访问节点集合\n",
    "        node = s\n",
    "        cities = tuple(cities)\n",
    "        return self.solve(node,cities) \n",
    "    \n",
    "    @lru_cache(maxsize=2**40)  #设置缓存加快运行速度\n",
    "    def solve(self,node,future_sets):\n",
    "        if len(future_sets) == 0:    #递归终止条件，所有节点都访问完毕，返回最后节点和初始节点的距离\n",
    "            return self.X[node][self.start_node]\n",
    "        d = 0        \n",
    "        distance = []\n",
    "        for i in range(len(future_sets)): #遍历所有未访问节点\n",
    "            s_i = future_sets[i]      \n",
    "            copy = future_sets[:]      #为每次递归新建一个未访问节点列表\n",
    "            copy = list(copy)\n",
    "            copy.pop(i)                #去掉起始节点，形成未访问节点集合\n",
    "            copy = tuple(copy)         #变成tuple，变成hashable，才能使用lru_cache装饰器\n",
    "            distance.append(self.X[node][s_i] + self.solve(s_i,copy))       #将每种可能放入列表\n",
    "        d = min(distance)      \n",
    "        next_one = future_sets[distance.index(d)]        #通过最短路径找回next_node，并生成下一步节点的矩阵array\n",
    "        c = self.transfer(future_sets)\n",
    "        self.array[node][c] = next_one\n",
    "        return d\n",
    "    \n",
    "    #参考自https://blog.csdn.net/yg838457845/article/details/81127697"
   ]
  },
  {
   "cell_type": "code",
   "execution_count": 187,
   "metadata": {},
   "outputs": [
    {
     "name": "stdout",
     "output_type": "stream",
     "text": [
      "min path distance: 368.0\n",
      "0 ---> 1\n",
      "1 ---> 2\n",
      "2 ---> 3\n",
      "3 ---> 9\n",
      "9 ---> 4\n",
      "4 ---> 10\n",
      "10 ---> 5\n",
      "5 ---> 8\n",
      "8 ---> 6\n",
      "6 ---> 7\n",
      "7 ---> 0\n"
     ]
    },
    {
     "data": {
      "text/plain": [
       "<matplotlib.collections.PathCollection at 0x1aea0d50be0>"
      ]
     },
     "execution_count": 187,
     "metadata": {},
     "output_type": "execute_result"
    },
    {
     "data": {
      "image/png": "[encoded data removed]",
      "text/plain": [
       "<Figure size 432x288 with 1 Axes>"
      ]
     },
     "metadata": {
      "needs_background": "light"
     },
     "output_type": "display_data"
    }
   ],
   "source": [
    "D = distance_matrix\n",
    "S = Solution(D,0)\n",
    "print(\"min path distance:\",S.tsp())\n",
    "lists = [i for i in range(len(S.X))]\n",
    "start = S.start_node\n",
    "while len(lists) > 0:\n",
    "    lists.pop(lists.index(start))\n",
    "    m = S.transfer(lists)\n",
    "    next_node = S.array[start][m]\n",
    "    print(start,\"--->\" ,next_node)\n",
    "    plt.plot([points[start][0],points[next_node][0]],[points[start][1],points[next_node][1]],color='k')\n",
    "    start = next_node\n",
    "plt.scatter(latitudes, longitude)\n",
    "plt.scatter([latitudes[0]],[longitude[0]],color='r')"
   ]
  },
  {
   "cell_type": "markdown",
   "metadata": {},
   "source": [
    "给定一个初始点 𝑃, 已经 𝑘个车辆，如何从该点出发，经这 k 个车辆经过所以的点全部一次，而且所走过的路程最短?\n",
    "\n",
    "思路：\n",
    "\n",
    "把点的集合分成k个不为空的子集，将初始点p加入到每个子集中，对每一个子集做一次tsp算法，计算每个子集最短路径，然后对k个子集最短路径求和；\n",
    "\n",
    "最后比较所有子集拆分的情况中计算的最短路径和，哪个更短，则求解出k辆车情况下的最短路径"
   ]
  },
  {
   "cell_type": "code",
   "execution_count": 188,
   "metadata": {},
   "outputs": [],
   "source": [
    "def div_set(s,p,k): \n",
    "    '''\n",
    "    参考https://bbs.csdn.net/topics/390281735中lijinlin_love关于将一个集合拆分成两个的方法，拓展出拆分成k个子集的方法\n",
    "    为了后面方便使用返回的结果，又将起点p分别加入子集中\n",
    "    s为点的index序列，并非点坐标，点坐标存在points中\n",
    "    '''\n",
    "    s.pop(s.index(p))\n",
    "    n = len(s)\n",
    "    subset_all = []\n",
    "    for x in range(k**n):\n",
    "        s1 = []\n",
    "        s2 = []\n",
    "        s3 = []\n",
    "        for i in range(n):\n",
    "            ki = k**i\n",
    "            if(x//ki)%k == 0:\n",
    "                s1.append(s[i])\n",
    "            elif(x//ki)%k == 1:\n",
    "                s2.append(s[i])\n",
    "            else:\n",
    "                s3.append(s[i])\n",
    "        if s1 and s2 and s3:\n",
    "            s1.append(p)\n",
    "            s2.append(p)\n",
    "            s3.append(p)\n",
    "            subset = set((tuple(s1),tuple(s2),tuple(s3)))\n",
    "            if subset not in subset_all:\n",
    "                subset_all.append(subset)\n",
    "    return subset_all\n",
    "\n",
    "# 假设集合为 ｛a,b,c,d,e,f,g,h｝\n",
    "# 0 0 0 0 0 0 0 1 \n",
    "# a b c d e f g h  => 表示划分为 ｛a,b,c,d,e,f,g｝｛h｝\n",
    "# 如此以来 问题就简化为从1 -> 2^(N-1) 依次判断每个数字的2进制位是0 还是1 是1就累加  "
   ]
  },
  {
   "cell_type": "code",
   "execution_count": 189,
   "metadata": {},
   "outputs": [],
   "source": [
    "def get_dis_matrix(s): #根据序列求对应点的距离矩阵\n",
    "    '''\n",
    "    s为点的index序列，并非点坐标，点坐标存在points中\n",
    "    '''\n",
    "    n = len(s)\n",
    "    matrix = [[distance(points[i],points[j]) for i in s]for j in s]\n",
    "    return matrix"
   ]
  },
  {
   "cell_type": "code",
   "execution_count": 190,
   "metadata": {},
   "outputs": [],
   "source": [
    "def get_tsp_path(s,p):\n",
    "    '''\n",
    "    根据序列s和起点p生成tsp路线，将上面生成路线图的语句放进一个函数中，\n",
    "    方便后面调用.\n",
    "    s为点的index序列，并非点坐标，点坐标存在points中\n",
    "    '''\n",
    "    path = []\n",
    "    matrix = get_dis_matrix(s)\n",
    "    S = Solution(matrix,p)\n",
    "    result = S.tsp()\n",
    "    lists = [i for i in range(len(matrix))]\n",
    "    start = p\n",
    "    while len(lists) > 0:\n",
    "        lists.pop(lists.index(start))\n",
    "        m = S.transfer(lists)\n",
    "        next_node = S.array[start][m]\n",
    "        path.append((s[start],s[next_node]))   #start nex_node为顺序序列的标号值，需要当成索引取出给定序列s中的值\n",
    "        start = next_node\n",
    "    return result,path  "
   ]
  },
  {
   "cell_type": "code",
   "execution_count": 174,
   "metadata": {},
   "outputs": [],
   "source": [
    "color = [ 'black',\n",
    " 'blue',\n",
    " 'blueviolet',\n",
    " 'brown',\n",
    " 'darkblue',\n",
    " 'darkred',\n",
    " 'darkviolet',\n",
    " 'deeppink',\n",
    " 'firebrick', \n",
    " 'gold',\n",
    " 'gray',\n",
    " 'green',\n",
    " 'lime',\n",
    " 'limegreen',\n",
    " 'pink',\n",
    " 'purple',\n",
    " 'red',\n",
    " 'violet',\n",
    " 'yellow',]"
   ]
  },
  {
   "cell_type": "code",
   "execution_count": 194,
   "metadata": {},
   "outputs": [],
   "source": [
    "def k_tsp(s,p,k): #集合s起始点为p，k辆车的tsp问题\n",
    "    subset_all = div_set(s,p,k)   #把s拆分成k个子集，将起始点p加到每个子集中\n",
    "    get_tsp_path_result_list = []\n",
    "    sum_res = 0\n",
    "    all_sum_res = []\n",
    "    for subsets in subset_all:   #遍历所有子集拆分的可能，每种可能包含k个子集\n",
    "        for subset in subsets:   # 遍历k个子集，每个子集都包含起点p\n",
    "            list_set = list(subset)\n",
    "            result,path = get_tsp_path(list_set,p)  #得到每个子集的最短路径\n",
    "            get_tsp_path_result_list.append([result,path])   #保存计算结果\n",
    "            sum_res += result      #这种子集拆分情况中的最短路径值之和\n",
    "        all_sum_res.append(sum_res) #保存所有子集拆分情况的最短路径和\n",
    "    best_path_dis = min(all_sum_res)\n",
    "    best_path_index = all_sum_res.index(best_path_dis)  #根据最短路径值找到这种情况的索引\n",
    "    for i in range(k):                                #每个最短路径对应k个子集合的路径情况\n",
    "        [sub_result,sub_path] = get_tsp_path_result_list[best_path_index*k+i]\n",
    "        select_color = random.choice(color)            #方便在图中以不同颜色区别不同线路\n",
    "        print('color:',select_color)\n",
    "        for start,next_node in sub_path:\n",
    "            print(start,\"--->\" ,next_node)\n",
    "            plt.plot([points[start][0],points[next_node][0]],[points[start][1],points[next_node][1]],color=select_color)  \n",
    "        print('==========')\n",
    "    plt.scatter(latitudes, longitude)\n",
    "    plt.scatter([latitudes[p]],[longitude[p]],color='r')                 "
   ]
  },
  {
   "cell_type": "code",
   "execution_count": null,
   "metadata": {},
   "outputs": [],
   "source": [
    "s=[i for i in range(len(points))]\n",
    "p = 0"
   ]
  },
  {
   "cell_type": "code",
   "execution_count": 200,
   "metadata": {},
   "outputs": [],
   "source": [
    "k = 4"
   ]
  },
  {
   "cell_type": "code",
   "execution_count": 198,
   "metadata": {},
   "outputs": [
    {
     "name": "stdout",
     "output_type": "stream",
     "text": [
      "color: blueviolet\n",
      "2 ---> 0\n",
      "0 ---> 2\n",
      "==========\n",
      "color: gold\n",
      "1 ---> 0\n",
      "0 ---> 1\n",
      "==========\n",
      "color: purple\n",
      "3 ---> 4\n",
      "4 ---> 5\n",
      "5 ---> 6\n",
      "6 ---> 7\n",
      "7 ---> 0\n",
      "0 ---> 8\n",
      "8 ---> 10\n",
      "10 ---> 9\n",
      "9 ---> 3\n",
      "==========\n",
      "color: lime\n",
      "3 ---> 0\n",
      "0 ---> 3\n",
      "==========\n"
     ]
    },
    {
     "data": {
      "image/png": "[encoded data removed]",
      "text/plain": [
       "<Figure size 432x288 with 1 Axes>"
      ]
     },
     "metadata": {
      "needs_background": "light"
     },
     "output_type": "display_data"
    }
   ],
   "source": [
    "k_tsp(s,p,k)"
   ]
  },
  {
   "cell_type": "code",
   "execution_count": 207,
   "metadata": {},
   "outputs": [
    {
     "name": "stdout",
     "output_type": "stream",
     "text": [
      "color: lime\n",
      "2 ---> 0\n",
      "0 ---> 2\n",
      "==========\n",
      "color: pink\n",
      "1 ---> 0\n",
      "0 ---> 1\n",
      "==========\n",
      "color: darkred\n",
      "3 ---> 4\n",
      "4 ---> 5\n",
      "5 ---> 6\n",
      "6 ---> 7\n",
      "7 ---> 0\n",
      "0 ---> 8\n",
      "8 ---> 10\n",
      "10 ---> 9\n",
      "9 ---> 3\n",
      "==========\n"
     ]
    },
    {
     "data": {
      "image/png": "[encoded data removed]",
      "text/plain": [
       "<Figure size 432x288 with 1 Axes>"
      ]
     },
     "metadata": {
      "needs_background": "light"
     },
     "output_type": "display_data"
    }
   ],
   "source": [
    "s=[i for i in range(len(points))]\n",
    "p = 0\n",
    "k=3\n",
    "k_tsp(s,p,k)\n",
    "\n",
    "#前面两个子集总是只包括起点在内的两个点，不知道是否有问题，k=5时时间太长没算出来"
   ]
  },
  {
   "cell_type": "markdown",
   "metadata": {},
   "source": [
    "shuro"
   ]
  }
 ],
 "metadata": {
  "kernelspec": {
   "display_name": "Python 3",
   "language": "python",
   "name": "python3"
  },
  "language_info": {
   "codemirror_mode": {
    "name": "ipython",
    "version": 3
   },
   "file_extension": ".py",
   "mimetype": "text/x-python",
   "name": "python",
   "nbconvert_exporter": "python",
   "pygments_lexer": "ipython3",
   "version": "3.7.3"
  }
 },
 "nbformat": 4,
 "nbformat_minor": 2
}
