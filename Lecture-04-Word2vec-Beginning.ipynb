{
 "cells": [
  {
   "cell_type": "markdown",
   "metadata": {},
   "source": [
    "## Softmax"
   ]
  },
  {
   "cell_type": "code",
   "execution_count": 1,
   "metadata": {},
   "outputs": [],
   "source": [
    "import numpy as np"
   ]
  },
  {
   "cell_type": "code",
   "execution_count": 19,
   "metadata": {},
   "outputs": [],
   "source": [
    "vector = np.array([11231, 999, 123142])"
   ]
  },
  {
   "cell_type": "code",
   "execution_count": 28,
   "metadata": {},
   "outputs": [],
   "source": [
    "vector = np.array([-10, 10, 24])"
   ]
  },
  {
   "cell_type": "code",
   "execution_count": 33,
   "metadata": {},
   "outputs": [],
   "source": [
    "def softmax(vec):\n",
    "    vec -= np.max(vec)\n",
    "    exp = np.exp(vec)\n",
    "    return exp / np.sum(exp)"
   ]
  },
  {
   "cell_type": "code",
   "execution_count": 32,
   "metadata": {},
   "outputs": [
    {
     "data": {
      "text/plain": [
       "array([1.71390701e-15, 8.31528028e-07, 9.99999168e-01])"
      ]
     },
     "execution_count": 32,
     "metadata": {},
     "output_type": "execute_result"
    }
   ],
   "source": [
    "softmax(vector)"
   ]
  },
  {
   "cell_type": "markdown",
   "metadata": {},
   "source": [
    "## Assignment-04 基于维基百科的词向量构建"
   ]
  },
  {
   "cell_type": "markdown",
   "metadata": {},
   "source": [
    "在本章，你将使用Gensim和维基百科获得你的第一批词向量，并且感受词向量的基本过程。"
   ]
  },
  {
   "cell_type": "markdown",
   "metadata": {},
   "source": [
    "![](https://www.kaggleusercontent.com/kf/1018109/eyJhbGciOiJkaXIiLCJlbmMiOiJBMTI4Q0JDLUhTMjU2In0..JNNggcCCDcYEypvp7ZDwOA.cM9CuDpuCKo0K_ZkMFLAUvhfip0P6SRZ4LddwgTtgwz8pQy1dZeGVJWi6u81KSpAFNSi7YximVVJbPw8xsFySdWlqoUwvSER-LLIRfmlpsCvtDt90NaLYT2FHlwl0tfF-1MKtiFsWlGQ8LGo40hL3ccBSwMZy214kGJf9bNkW_g.kZbF5sgN5qha3zhjilfSDg/__results___files/__results___9_0.png)"
   ]
  },
  {
   "cell_type": "markdown",
   "metadata": {},
   "source": [
    "## Step-01: Download Wikipedia Chinese Corpus: https://dumps.wikimedia.org/zhwiki/20190720/"
   ]
  },
  {
   "cell_type": "markdown",
   "metadata": {},
   "source": [
    "第一步：使用维基百科下载中文语料库"
   ]
  },
  {
   "cell_type": "markdown",
   "metadata": {},
   "source": [
    "## Step-02: Using https://github.com/attardi/wikiextractor to extract the wikipedia corpus"
   ]
  },
  {
   "cell_type": "markdown",
   "metadata": {},
   "source": [
    "第二步：使用python wikipedia extractor抽取维基百科的内容\n",
    "\n",
    "python WikiExtractor.py -b 100M -o . zhwiki-20190720-pages-articles-multistream.xml.bz2 #抽取wiki数据,分割成每个大小100M的包\n",
    "\n",
    "\n",
    "opencc.exe  -i ..\\AA\\wiki_02  -o ..\\AA\\zh_wiki_02 -c t2s.json #繁体转简体"
   ]
  },
  {
   "cell_type": "markdown",
   "metadata": {},
   "source": [
    "## Step-03: Using gensim get word vectors: \n",
    "\n",
    "Reference: \n",
    "\n",
    "+ https://radimrehurek.com/gensim/models/word2vec.html\n",
    "+ https://www.kaggle.com/jeffd23/visualizing-word-vectors-with-t-sne"
   ]
  },
  {
   "cell_type": "markdown",
   "metadata": {},
   "source": [
    "第三步：参考Gensim的文档和Kaggle的参考文档，获得词向量。 注意，你要使用Jieba分词把维基百科的内容切分成一个一个单词，然后存进新的文件中。然后，你需要用Gensim的LineSentence这个类进行文件的读取。\n",
    "\n",
    "在训练成词向量Model."
   ]
  },
  {
   "cell_type": "code",
   "execution_count": 1,
   "metadata": {},
   "outputs": [],
   "source": [
    "import jieba\n",
    "import multiprocessing\n",
    "from pathlib import Path\n",
    "from gensim.models import word2vec,Word2Vec\n",
    "from gensim.test.utils import get_tmpfile\n",
    "from sklearn.manifold import TSNE\n",
    "import matplotlib.pyplot as plt\n",
    "from tqdm import tqdm\n",
    "import os\n",
    "import re"
   ]
  },
  {
   "cell_type": "code",
   "execution_count": 2,
   "metadata": {},
   "outputs": [],
   "source": [
    "zh_stop_words = set()\n",
    "with open(r'chinese_stopwords.txt','r',encoding='utf-8') as stop_words:\n",
    "    for line in stop_words.readlines():\n",
    "        stop_word = line.strip('\\n')\n",
    "        zh_stop_words.add(stop_word)"
   ]
  },
  {
   "cell_type": "code",
   "execution_count": 3,
   "metadata": {},
   "outputs": [],
   "source": [
    "wiki = Path(r'/home/qinhao/nlp/assignments/AA')"
   ]
  },
  {
   "cell_type": "code",
   "execution_count": 4,
   "metadata": {},
   "outputs": [
    {
     "data": {
      "text/plain": [
       "PosixPath('/home/qinhao/nlp/assignments')"
      ]
     },
     "execution_count": 4,
     "metadata": {},
     "output_type": "execute_result"
    }
   ],
   "source": [
    "wiki.parent"
   ]
  },
  {
   "cell_type": "code",
   "execution_count": 31,
   "metadata": {},
   "outputs": [],
   "source": [
    "def hanziconv(inputdir,outputdir):\n",
    "    inputdir = Path(inputdir)\n",
    "    outputdir = Path(outputdir)\n",
    "    if not inputdir.exists():\n",
    "        print(\"Input DIR is not exist!\")\n",
    "        exit()\n",
    "    elif not outputdir.exists():\n",
    "        outputdir.mkdir(parents=True, exist_ok=True)\n",
    "    for wiki in tqdm(inputdir.iterdir()):\n",
    "        os.system('C:\\\\Users\\\\qinha\\\\Documents\\\\nlp\\\\assignments\\\\opencc-1.0.1-win64\\\\opencc.exe -i {infile} -o {outfile} -c C:\\\\Users\\\\qinha\\\\Documents\\\\nlp\\\\assignments\\\\opencc-1.0.1-win64\\\\t2s.json'.format(\n",
    "        infile=str(wiki),outfile=str(outputdir)+'\\\\zh'+wiki.name) )\n",
    "        "
   ]
  },
  {
   "cell_type": "code",
   "execution_count": 16,
   "metadata": {},
   "outputs": [
    {
     "name": "stderr",
     "output_type": "stream",
     "text": [
      "\n",
      "0it [00:00, ?it/s]\n",
      "1it [00:05,  5.41s/it]\n",
      "2it [00:10,  5.44s/it]\n",
      "3it [00:16,  5.55s/it]\n",
      "4it [00:22,  5.63s/it]\n",
      "5it [00:28,  5.65s/it]\n",
      "6it [00:34,  5.71s/it]\n",
      "7it [00:39,  5.71s/it]\n",
      "8it [00:45,  5.75s/it]\n",
      "9it [00:51,  5.79s/it]\n",
      "10it [00:57,  5.82s/it]\n",
      "11it [01:03,  5.85s/it]\n",
      "12it [01:09,  5.87s/it]\n",
      "13it [01:14,  5.72s/it]"
     ]
    }
   ],
   "source": [
    "hanziconv(r'C:\\Users\\qinha\\Documents\\nlp\\assignments\\AA',r'C:\\Users\\qinha\\Documents\\nlp\\assignments\\BB')"
   ]
  },
  {
   "cell_type": "code",
   "execution_count": 40,
   "metadata": {},
   "outputs": [],
   "source": [
    "def data_wash(file):\n",
    "    with open(file,'r',encoding='utf-8') as f:\n",
    "        i = 0\n",
    "        text = []\n",
    "        for line in f.readlines():\n",
    "            line = line.strip()\n",
    "            if line =='' or line.startswith('<doc') or line.startswith('</doc'):#删除空行和html标签行\n",
    "                i += 1\n",
    "                continue\n",
    "            words = []\n",
    "            for word in jieba.cut(line):\n",
    "                if word in zh_stop_words or not re.search('\\w',word):continue\n",
    "                words.append(word)\n",
    "            i += 1\n",
    "            if len(words) > 0:\n",
    "                sentence = ' '.join(words) + '\\n'\n",
    "                text.append(sentence)\n",
    "                words = []\n",
    "            if i % 50000 == 0:\n",
    "                print(\"line number:\",i)\n",
    "        return text"
   ]
  },
  {
   "cell_type": "code",
   "execution_count": 41,
   "metadata": {},
   "outputs": [],
   "source": [
    "import os\n",
    "def convert(inputdir,outputdir,func):\n",
    "    inputdir = Path(inputdir)\n",
    "    outputdir = Path(outputdir)\n",
    "    if not inputdir.exists():\n",
    "        print(\"Input DIR is not exist!\")\n",
    "        exit()\n",
    "    elif not outputdir.exists():\n",
    "        outputdir.mkdir(parents=True, exist_ok=True)\n",
    "    for wiki in tqdm(inputdir.iterdir()):\n",
    "        output_file = str(outputdir)+os.sep+func.__name__+wiki.name\n",
    "        wiki_out = func(wiki)\n",
    "        with open(output_file,'w',encoding='utf-8') as outf:\n",
    "            outf.writelines(wiki_out)"
   ]
  },
  {
   "cell_type": "code",
   "execution_count": 42,
   "metadata": {},
   "outputs": [
    {
     "name": "stderr",
     "output_type": "stream",
     "text": [
      "\n",
      "\n",
      "\n",
      "\n",
      "\n",
      "\n",
      "0it [00:00, ?it/s]"
     ]
    },
    {
     "name": "stdout",
     "output_type": "stream",
     "text": [
      "line number: 100000\n",
      "line number: 350000\n",
      "line number: 400000\n",
      "line number: 450000\n",
      "line number: 500000\n",
      "line number: 600000\n"
     ]
    },
    {
     "name": "stderr",
     "output_type": "stream",
     "text": [
      "\n",
      "\n",
      "\n",
      "\n",
      "\n",
      "\n",
      "1it [02:45, 165.71s/it]"
     ]
    },
    {
     "name": "stdout",
     "output_type": "stream",
     "text": [
      "line number: 50000\n",
      "line number: 200000\n",
      "line number: 350000\n",
      "line number: 400000\n",
      "line number: 550000\n",
      "line number: 600000\n",
      "line number: 650000\n",
      "line number: 700000\n",
      "line number: 800000\n"
     ]
    },
    {
     "name": "stderr",
     "output_type": "stream",
     "text": [
      "\n",
      "\n",
      "\n",
      "\n",
      "\n",
      "\n",
      "2it [05:36, 167.20s/it]"
     ]
    },
    {
     "name": "stdout",
     "output_type": "stream",
     "text": [
      "line number: 250000\n",
      "line number: 350000\n",
      "line number: 400000\n",
      "line number: 450000\n",
      "line number: 600000\n",
      "line number: 700000\n",
      "line number: 800000\n",
      "line number: 850000\n"
     ]
    },
    {
     "name": "stderr",
     "output_type": "stream",
     "text": [
      "\n",
      "\n",
      "\n",
      "\n",
      "\n",
      "\n",
      "3it [08:28, 168.81s/it]"
     ]
    },
    {
     "name": "stdout",
     "output_type": "stream",
     "text": [
      "line number: 50000\n",
      "line number: 100000\n",
      "line number: 200000\n",
      "line number: 400000\n",
      "line number: 600000\n",
      "line number: 650000\n"
     ]
    },
    {
     "name": "stderr",
     "output_type": "stream",
     "text": [
      "\n",
      "\n",
      "\n",
      "\n",
      "\n",
      "\n",
      "4it [11:21, 169.90s/it]"
     ]
    },
    {
     "name": "stdout",
     "output_type": "stream",
     "text": [
      "line number: 300000\n",
      "line number: 500000\n",
      "line number: 600000\n",
      "line number: 700000\n",
      "line number: 850000\n"
     ]
    },
    {
     "name": "stderr",
     "output_type": "stream",
     "text": [
      "\n",
      "\n",
      "\n",
      "\n",
      "\n",
      "\n",
      "5it [14:15, 171.20s/it]"
     ]
    },
    {
     "name": "stdout",
     "output_type": "stream",
     "text": [
      "line number: 100000\n",
      "line number: 550000\n",
      "line number: 750000\n",
      "line number: 1000000\n",
      "line number: 1050000\n"
     ]
    },
    {
     "name": "stderr",
     "output_type": "stream",
     "text": [
      "\n",
      "\n",
      "\n",
      "\n",
      "\n",
      "\n",
      "6it [17:00, 169.29s/it]"
     ]
    },
    {
     "name": "stdout",
     "output_type": "stream",
     "text": [
      "line number: 50000\n",
      "line number: 300000\n",
      "line number: 400000\n",
      "line number: 500000\n",
      "line number: 650000\n",
      "line number: 800000\n",
      "line number: 850000\n",
      "line number: 950000\n",
      "line number: 1050000\n",
      "line number: 1150000\n"
     ]
    },
    {
     "name": "stderr",
     "output_type": "stream",
     "text": [
      "\n",
      "\n",
      "\n",
      "\n",
      "\n",
      "\n",
      "7it [19:59, 172.25s/it]"
     ]
    },
    {
     "name": "stdout",
     "output_type": "stream",
     "text": [
      "line number: 150000\n",
      "line number: 200000\n",
      "line number: 350000\n",
      "line number: 450000\n",
      "line number: 500000\n",
      "line number: 600000\n",
      "line number: 850000\n",
      "line number: 900000\n",
      "line number: 950000\n",
      "line number: 1000000\n",
      "line number: 1250000\n",
      "line number: 1550000\n",
      "line number: 1600000\n",
      "line number: 1750000\n"
     ]
    },
    {
     "name": "stderr",
     "output_type": "stream",
     "text": [
      "\n",
      "\n",
      "\n",
      "\n",
      "\n",
      "\n",
      "8it [22:53, 172.68s/it]"
     ]
    },
    {
     "name": "stdout",
     "output_type": "stream",
     "text": [
      "line number: 100000\n",
      "line number: 200000\n",
      "line number: 250000\n",
      "line number: 600000\n",
      "line number: 900000\n",
      "line number: 1050000\n",
      "line number: 1150000\n",
      "line number: 1500000\n"
     ]
    },
    {
     "name": "stderr",
     "output_type": "stream",
     "text": [
      "\n",
      "\n",
      "\n",
      "\n",
      "\n",
      "\n",
      "9it [25:46, 172.82s/it]"
     ]
    },
    {
     "name": "stdout",
     "output_type": "stream",
     "text": [
      "line number: 50000\n",
      "line number: 150000\n",
      "line number: 200000\n",
      "line number: 400000\n",
      "line number: 550000\n",
      "line number: 800000\n",
      "line number: 850000\n",
      "line number: 900000\n",
      "line number: 1000000\n"
     ]
    },
    {
     "name": "stderr",
     "output_type": "stream",
     "text": [
      "\n",
      "\n",
      "\n",
      "\n",
      "\n",
      "\n",
      "10it [28:34, 171.51s/it]"
     ]
    },
    {
     "name": "stdout",
     "output_type": "stream",
     "text": [
      "line number: 50000\n",
      "line number: 100000\n",
      "line number: 150000\n",
      "line number: 400000\n",
      "line number: 700000\n",
      "line number: 850000\n",
      "line number: 1000000\n",
      "line number: 1100000\n"
     ]
    },
    {
     "name": "stderr",
     "output_type": "stream",
     "text": [
      "\n",
      "\n",
      "\n",
      "\n",
      "\n",
      "\n",
      "11it [31:22, 170.34s/it]"
     ]
    },
    {
     "name": "stdout",
     "output_type": "stream",
     "text": [
      "line number: 50000\n",
      "line number: 350000\n",
      "line number: 450000\n",
      "line number: 500000\n",
      "line number: 550000\n",
      "line number: 600000\n",
      "line number: 800000\n",
      "line number: 850000\n",
      "line number: 900000\n",
      "line number: 1000000\n",
      "line number: 1050000\n",
      "line number: 1150000\n"
     ]
    },
    {
     "name": "stderr",
     "output_type": "stream",
     "text": [
      "\n",
      "\n",
      "\n",
      "\n",
      "\n",
      "\n",
      "12it [34:12, 170.20s/it]"
     ]
    },
    {
     "name": "stdout",
     "output_type": "stream",
     "text": [
      "line number: 50000\n",
      "line number: 150000\n",
      "line number: 300000\n",
      "line number: 700000\n",
      "line number: 1100000\n"
     ]
    },
    {
     "name": "stderr",
     "output_type": "stream",
     "text": [
      "\n",
      "\n",
      "\n",
      "\n",
      "\n",
      "\n",
      "13it [36:48, 165.90s/it]"
     ]
    }
   ],
   "source": [
    "convert(r'C:\\Users\\qinha\\Documents\\nlp\\assignments\\BB',r'C:\\Users\\qinha\\Documents\\nlp\\assignments\\CC',data_wash)"
   ]
  },
  {
   "cell_type": "code",
   "execution_count": 10,
   "metadata": {
    "scrolled": true
   },
   "outputs": [],
   "source": [
    "path = get_tmpfile('word2vec.model')\n",
    "sentences = word2vec.LineSentence(r'/home/qinhao/nlp/assignments/CC/data_washzhwiki_00')\n",
    "model = Word2Vec(size=200,window=5,min_count=1,workers=multiprocessing.cpu_count()-1)\n",
    "model.build_vocab(sentences)"
   ]
  },
  {
   "cell_type": "code",
   "execution_count": 11,
   "metadata": {},
   "outputs": [
    {
     "name": "stderr",
     "output_type": "stream",
     "text": [
      "14it [19:01, 69.68s/it]\n"
     ]
    }
   ],
   "source": [
    "%timeit\n",
    "data_path = Path(r'/home/qinhao/nlp/assignments/CC')\n",
    "for data_file in tqdm(data_path.iterdir()):\n",
    "    moresentences = word2vec.LineSentence(str(data_file))\n",
    "    model.train(moresentences,total_examples=model.corpus_count,epochs=5)\n",
    "model.save(path)\n"
   ]
  },
  {
   "cell_type": "markdown",
   "metadata": {},
   "source": [
    "## Step-04: Using some words to test your preformance. "
   ]
  },
  {
   "cell_type": "markdown",
   "metadata": {},
   "source": [
    "第四步，测试同义词，找几个单词。"
   ]
  },
  {
   "cell_type": "code",
   "execution_count": 12,
   "metadata": {},
   "outputs": [],
   "source": [
    "model = Word2Vec.load(r'/home/qinhao/nlp/assignments/all.model')"
   ]
  },
  {
   "cell_type": "code",
   "execution_count": 13,
   "metadata": {},
   "outputs": [
    {
     "name": "stderr",
     "output_type": "stream",
     "text": [
      "/home/qinhao/anaconda3/envs/py3/lib/python3.6/site-packages/ipykernel_launcher.py:1: DeprecationWarning: Call to deprecated `similar_by_word` (Method will be removed in 4.0.0, use self.wv.similar_by_word() instead).\n",
      "  \"\"\"Entry point for launching an IPython kernel.\n"
     ]
    },
    {
     "name": "stdout",
     "output_type": "stream",
     "text": [
      "('高中学生', 0.7110780477523804)\n",
      "('小学生', 0.6659013628959656)\n",
      "('同学', 0.6609445810317993)\n",
      "('中学生', 0.6497840881347656)\n",
      "('女生', 0.6447247266769409)\n",
      "('学童', 0.6314136385917664)\n",
      "('师生', 0.6246892213821411)\n",
      "('低年级', 0.6191005110740662)\n",
      "('教师', 0.6158695220947266)\n",
      "('学生家长', 0.6139034628868103)\n"
     ]
    }
   ],
   "source": [
    "for key in model.similar_by_word('学生',topn=10):\n",
    "    print(key)"
   ]
  },
  {
   "cell_type": "code",
   "execution_count": 35,
   "metadata": {},
   "outputs": [
    {
     "name": "stdout",
     "output_type": "stream",
     "text": [
      "<class 'dict'>\n",
      "数学 Vocab(count:3345, index:391, sample_int:4294967296)\n",
      "利用 Vocab(count:4470, index:253, sample_int:4294967296)\n",
      "符号语言 Vocab(count:5, index:119909, sample_int:4294967296)\n",
      "研究 Vocab(count:15187, index:18, sample_int:4294967296)\n",
      "数量 Vocab(count:3146, index:428, sample_int:4294967296)\n",
      "结构 Vocab(count:4872, index:215, sample_int:4294967296)\n",
      "变化 Vocab(count:3571, index:355, sample_int:4294967296)\n",
      "空间 Vocab(count:3208, index:416, sample_int:4294967296)\n",
      "概念 Vocab(count:3605, index:349, sample_int:4294967296)\n",
      "一门 Vocab(count:567, index:3379, sample_int:4294967296)\n",
      "学科 Vocab(count:2028, index:815, sample_int:4294967296)\n",
      "某种 Vocab(count:616, index:3113, sample_int:4294967296)\n",
      "角度看 Vocab(count:57, index:24515, sample_int:4294967296)\n",
      "属于 Vocab(count:5708, index:155, sample_int:4294967296)\n",
      "形式 Vocab(count:5187, index:185, sample_int:4294967296)\n",
      "科学 Vocab(count:4566, index:240, sample_int:4294967296)\n",
      "一种 Vocab(count:12343, index:28, sample_int:4294967296)\n",
      "透过 Vocab(count:2806, index:501, sample_int:4294967296)\n",
      "抽象化 Vocab(count:46, index:28828, sample_int:4294967296)\n",
      "逻辑推理 Vocab(count:29, index:40335, sample_int:4294967296)\n",
      "使用 Vocab(count:22701, index:5, sample_int:4294967296)\n",
      "计数 Vocab(count:122, index:13373, sample_int:4294967296)\n",
      "计算 Vocab(count:3191, index:418, sample_int:4294967296)\n",
      "量度 Vocab(count:175, index:9872, sample_int:4294967296)\n",
      "物体 Vocab(count:1987, index:849, sample_int:4294967296)\n",
      "形状 Vocab(count:1033, index:1811, sample_int:4294967296)\n",
      "运动 Vocab(count:7651, index:91, sample_int:4294967296)\n",
      "观察 Vocab(count:1829, index:943, sample_int:4294967296)\n",
      "产生 Vocab(count:8803, index:65, sample_int:4294967296)\n",
      "数学家 Vocab(count:1113, index:1666, sample_int:4294967296)\n",
      "拓展 Vocab(count:318, index:5795, sample_int:4294967296)\n",
      "公式化 Vocab(count:32, index:37577, sample_int:4294967296)\n",
      "猜想 Vocab(count:404, index:4640, sample_int:4294967296)\n",
      "选定 Vocab(count:215, index:8263, sample_int:4294967296)\n",
      "公理 Vocab(count:416, index:4521, sample_int:4294967296)\n",
      "定义 Vocab(count:5124, index:196, sample_int:4294967296)\n",
      "建立 Vocab(count:10025, index:51, sample_int:4294967296)\n",
      "严谨 Vocab(count:318, index:5796, sample_int:4294967296)\n",
      "推导 Vocab(count:298, index:6178, sample_int:4294967296)\n",
      "出 Vocab(count:8531, index:73, sample_int:4294967296)\n",
      "定理 Vocab(count:1111, index:1670, sample_int:4294967296)\n",
      "基础 Vocab(count:4904, index:212, sample_int:4294967296)\n",
      "知识 Vocab(count:1963, index:861, sample_int:4294967296)\n",
      "运用 Vocab(count:1378, index:1310, sample_int:4294967296)\n",
      "总是 Vocab(count:678, index:2819, sample_int:4294967296)\n",
      "个人 Vocab(count:3145, index:430, sample_int:4294967296)\n",
      "团体 Vocab(count:1998, index:834, sample_int:4294967296)\n",
      "生活 Vocab(count:5627, index:162, sample_int:4294967296)\n",
      "不可或缺 Vocab(count:125, index:13104, sample_int:4294967296)\n",
      "一环 Vocab(count:98, index:15937, sample_int:4294967296)\n"
     ]
    }
   ],
   "source": [
    "a=model.wv.vocab\n",
    "print(type(a))\n",
    "i = 0 \n",
    "for k,v in a.items():\n",
    "    if i< 50:\n",
    "        print(k,v)\n",
    "        i += 1\n"
   ]
  },
  {
   "cell_type": "markdown",
   "metadata": {},
   "source": [
    "## Step-05: Using visualization tools: https://www.kaggle.com/jeffd23/visualizing-word-vectors-with-t-sne"
   ]
  },
  {
   "cell_type": "markdown",
   "metadata": {},
   "source": [
    "第五步：使用Kaggle给出的T-SEN进行词向量的可视化。"
   ]
  },
  {
   "cell_type": "code",
   "execution_count": 32,
   "metadata": {},
   "outputs": [],
   "source": [
    "def tsne_plot(model):\n",
    "    \"Creates and TSNE model and plots it\"\n",
    "    labels = []\n",
    "    tokens = []\n",
    "    i = 0\n",
    "    for i,word in enumerate(model.wv.vocab):\n",
    "        if i < 100:\n",
    "            tokens.append(model[word])\n",
    "            labels.append(word)\n",
    "            i += 1\n",
    "    \n",
    "    tsne_model = TSNE(perplexity=40, n_components=2, init='pca', n_iter=2500, random_state=23)\n",
    "    new_values = tsne_model.fit_transform(tokens)\n",
    "\n",
    "    x = []\n",
    "    y = []\n",
    "    for value in new_values:\n",
    "        x.append(value[0])\n",
    "        y.append(value[1])\n",
    "        \n",
    "    plt.figure(figsize=(16, 16)) \n",
    "    for i in range(len(x)):\n",
    "        plt.scatter(x[i],y[i])\n",
    "        plt.annotate(labels[i],\n",
    "                     xy=(x[i], y[i]),\n",
    "                     xytext=(5, 2),\n",
    "                     textcoords='offset points',\n",
    "                     ha='right',\n",
    "                     va='bottom')\n",
    "    plt.show()"
   ]
  },
  {
   "cell_type": "code",
   "execution_count": 33,
   "metadata": {},
   "outputs": [],
   "source": [
    "\n",
    "%matplotlib inline\n",
    "import matplotlib.pyplot as plt\n",
    "import matplotlib\n",
    "matplotlib.rcParams['font.sans-serif']=['SimHei']\n",
    "matplotlib.rcParams['font.family']=['sans-serif']"
   ]
  },
  {
   "cell_type": "code",
   "execution_count": 34,
   "metadata": {},
   "outputs": [
    {
     "name": "stderr",
     "output_type": "stream",
     "text": [
      "/home/qinhao/anaconda3/envs/py3/lib/python3.6/site-packages/ipykernel_launcher.py:8: DeprecationWarning: Call to deprecated `__getitem__` (Method will be removed in 4.0.0, use self.wv.__getitem__() instead).\n",
      "  \n",
      "/home/qinhao/anaconda3/envs/py3/lib/python3.6/site-packages/matplotlib/backends/backend_agg.py:211: RuntimeWarning: Glyph 25968 missing from current font.\n",
      "  font.set_text(s, 0.0, flags=flags)\n",
      "/home/qinhao/anaconda3/envs/py3/lib/python3.6/site-packages/matplotlib/backends/backend_agg.py:211: RuntimeWarning: Glyph 23398 missing from current font.\n",
      "  font.set_text(s, 0.0, flags=flags)\n",
      "/home/qinhao/anaconda3/envs/py3/lib/python3.6/site-packages/matplotlib/backends/backend_agg.py:180: RuntimeWarning: Glyph 25968 missing from current font.\n",
      "  font.set_text(s, 0, flags=flags)\n",
      "/home/qinhao/anaconda3/envs/py3/lib/python3.6/site-packages/matplotlib/backends/backend_agg.py:180: RuntimeWarning: Glyph 23398 missing from current font.\n",
      "  font.set_text(s, 0, flags=flags)\n",
      "/home/qinhao/anaconda3/envs/py3/lib/python3.6/site-packages/matplotlib/backends/backend_agg.py:211: RuntimeWarning: Glyph 21033 missing from current font.\n",
      "  font.set_text(s, 0.0, flags=flags)\n",
      "/home/qinhao/anaconda3/envs/py3/lib/python3.6/site-packages/matplotlib/backends/backend_agg.py:211: RuntimeWarning: Glyph 29992 missing from current font.\n",
      "  font.set_text(s, 0.0, flags=flags)\n",
      "/home/qinhao/anaconda3/envs/py3/lib/python3.6/site-packages/matplotlib/backends/backend_agg.py:180: RuntimeWarning: Glyph 21033 missing from current font.\n",
      "  font.set_text(s, 0, flags=flags)\n",
      "/home/qinhao/anaconda3/envs/py3/lib/python3.6/site-packages/matplotlib/backends/backend_agg.py:180: RuntimeWarning: Glyph 29992 missing from current font.\n",
      "  font.set_text(s, 0, flags=flags)\n",
      "/home/qinhao/anaconda3/envs/py3/lib/python3.6/site-packages/matplotlib/backends/backend_agg.py:211: RuntimeWarning: Glyph 31526 missing from current font.\n",
      "  font.set_text(s, 0.0, flags=flags)\n",
      "/home/qinhao/anaconda3/envs/py3/lib/python3.6/site-packages/matplotlib/backends/backend_agg.py:211: RuntimeWarning: Glyph 21495 missing from current font.\n",
      "  font.set_text(s, 0.0, flags=flags)\n",
      "/home/qinhao/anaconda3/envs/py3/lib/python3.6/site-packages/matplotlib/backends/backend_agg.py:211: RuntimeWarning: Glyph 35821 missing from current font.\n",
      "  font.set_text(s, 0.0, flags=flags)\n",
      "/home/qinhao/anaconda3/envs/py3/lib/python3.6/site-packages/matplotlib/backends/backend_agg.py:211: RuntimeWarning: Glyph 35328 missing from current font.\n",
      "  font.set_text(s, 0.0, flags=flags)\n",
      "/home/qinhao/anaconda3/envs/py3/lib/python3.6/site-packages/matplotlib/backends/backend_agg.py:180: RuntimeWarning: Glyph 31526 missing from current font.\n",
      "  font.set_text(s, 0, flags=flags)\n",
      "/home/qinhao/anaconda3/envs/py3/lib/python3.6/site-packages/matplotlib/backends/backend_agg.py:180: RuntimeWarning: Glyph 21495 missing from current font.\n",
      "  font.set_text(s, 0, flags=flags)\n",
      "/home/qinhao/anaconda3/envs/py3/lib/python3.6/site-packages/matplotlib/backends/backend_agg.py:180: RuntimeWarning: Glyph 35821 missing from current font.\n",
      "  font.set_text(s, 0, flags=flags)\n",
      "/home/qinhao/anaconda3/envs/py3/lib/python3.6/site-packages/matplotlib/backends/backend_agg.py:180: RuntimeWarning: Glyph 35328 missing from current font.\n",
      "  font.set_text(s, 0, flags=flags)\n",
      "/home/qinhao/anaconda3/envs/py3/lib/python3.6/site-packages/matplotlib/backends/backend_agg.py:211: RuntimeWarning: Glyph 30740 missing from current font.\n",
      "  font.set_text(s, 0.0, flags=flags)\n",
      "/home/qinhao/anaconda3/envs/py3/lib/python3.6/site-packages/matplotlib/backends/backend_agg.py:211: RuntimeWarning: Glyph 31350 missing from current font.\n",
      "  font.set_text(s, 0.0, flags=flags)\n",
      "/home/qinhao/anaconda3/envs/py3/lib/python3.6/site-packages/matplotlib/backends/backend_agg.py:180: RuntimeWarning: Glyph 30740 missing from current font.\n",
      "  font.set_text(s, 0, flags=flags)\n",
      "/home/qinhao/anaconda3/envs/py3/lib/python3.6/site-packages/matplotlib/backends/backend_agg.py:180: RuntimeWarning: Glyph 31350 missing from current font.\n",
      "  font.set_text(s, 0, flags=flags)\n",
      "/home/qinhao/anaconda3/envs/py3/lib/python3.6/site-packages/matplotlib/backends/backend_agg.py:211: RuntimeWarning: Glyph 37327 missing from current font.\n",
      "  font.set_text(s, 0.0, flags=flags)\n",
      "/home/qinhao/anaconda3/envs/py3/lib/python3.6/site-packages/matplotlib/backends/backend_agg.py:180: RuntimeWarning: Glyph 37327 missing from current font.\n",
      "  font.set_text(s, 0, flags=flags)\n",
      "/home/qinhao/anaconda3/envs/py3/lib/python3.6/site-packages/matplotlib/backends/backend_agg.py:211: RuntimeWarning: Glyph 32467 missing from current font.\n",
      "  font.set_text(s, 0.0, flags=flags)\n",
      "/home/qinhao/anaconda3/envs/py3/lib/python3.6/site-packages/matplotlib/backends/backend_agg.py:211: RuntimeWarning: Glyph 26500 missing from current font.\n",
      "  font.set_text(s, 0.0, flags=flags)\n",
      "/home/qinhao/anaconda3/envs/py3/lib/python3.6/site-packages/matplotlib/backends/backend_agg.py:180: RuntimeWarning: Glyph 32467 missing from current font.\n",
      "  font.set_text(s, 0, flags=flags)\n",
      "/home/qinhao/anaconda3/envs/py3/lib/python3.6/site-packages/matplotlib/backends/backend_agg.py:180: RuntimeWarning: Glyph 26500 missing from current font.\n",
      "  font.set_text(s, 0, flags=flags)\n",
      "/home/qinhao/anaconda3/envs/py3/lib/python3.6/site-packages/matplotlib/backends/backend_agg.py:211: RuntimeWarning: Glyph 21464 missing from current font.\n",
      "  font.set_text(s, 0.0, flags=flags)\n",
      "/home/qinhao/anaconda3/envs/py3/lib/python3.6/site-packages/matplotlib/backends/backend_agg.py:211: RuntimeWarning: Glyph 21270 missing from current font.\n",
      "  font.set_text(s, 0.0, flags=flags)\n",
      "/home/qinhao/anaconda3/envs/py3/lib/python3.6/site-packages/matplotlib/backends/backend_agg.py:180: RuntimeWarning: Glyph 21464 missing from current font.\n",
      "  font.set_text(s, 0, flags=flags)\n",
      "/home/qinhao/anaconda3/envs/py3/lib/python3.6/site-packages/matplotlib/backends/backend_agg.py:180: RuntimeWarning: Glyph 21270 missing from current font.\n",
      "  font.set_text(s, 0, flags=flags)\n",
      "/home/qinhao/anaconda3/envs/py3/lib/python3.6/site-packages/matplotlib/backends/backend_agg.py:211: RuntimeWarning: Glyph 31354 missing from current font.\n",
      "  font.set_text(s, 0.0, flags=flags)\n",
      "/home/qinhao/anaconda3/envs/py3/lib/python3.6/site-packages/matplotlib/backends/backend_agg.py:211: RuntimeWarning: Glyph 38388 missing from current font.\n",
      "  font.set_text(s, 0.0, flags=flags)\n",
      "/home/qinhao/anaconda3/envs/py3/lib/python3.6/site-packages/matplotlib/backends/backend_agg.py:180: RuntimeWarning: Glyph 31354 missing from current font.\n",
      "  font.set_text(s, 0, flags=flags)\n",
      "/home/qinhao/anaconda3/envs/py3/lib/python3.6/site-packages/matplotlib/backends/backend_agg.py:180: RuntimeWarning: Glyph 38388 missing from current font.\n",
      "  font.set_text(s, 0, flags=flags)\n",
      "/home/qinhao/anaconda3/envs/py3/lib/python3.6/site-packages/matplotlib/backends/backend_agg.py:211: RuntimeWarning: Glyph 27010 missing from current font.\n",
      "  font.set_text(s, 0.0, flags=flags)\n",
      "/home/qinhao/anaconda3/envs/py3/lib/python3.6/site-packages/matplotlib/backends/backend_agg.py:211: RuntimeWarning: Glyph 24565 missing from current font.\n",
      "  font.set_text(s, 0.0, flags=flags)\n",
      "/home/qinhao/anaconda3/envs/py3/lib/python3.6/site-packages/matplotlib/backends/backend_agg.py:180: RuntimeWarning: Glyph 27010 missing from current font.\n",
      "  font.set_text(s, 0, flags=flags)\n",
      "/home/qinhao/anaconda3/envs/py3/lib/python3.6/site-packages/matplotlib/backends/backend_agg.py:180: RuntimeWarning: Glyph 24565 missing from current font.\n",
      "  font.set_text(s, 0, flags=flags)\n",
      "/home/qinhao/anaconda3/envs/py3/lib/python3.6/site-packages/matplotlib/backends/backend_agg.py:211: RuntimeWarning: Glyph 19968 missing from current font.\n",
      "  font.set_text(s, 0.0, flags=flags)\n",
      "/home/qinhao/anaconda3/envs/py3/lib/python3.6/site-packages/matplotlib/backends/backend_agg.py:211: RuntimeWarning: Glyph 38376 missing from current font.\n",
      "  font.set_text(s, 0.0, flags=flags)\n",
      "/home/qinhao/anaconda3/envs/py3/lib/python3.6/site-packages/matplotlib/backends/backend_agg.py:180: RuntimeWarning: Glyph 19968 missing from current font.\n",
      "  font.set_text(s, 0, flags=flags)\n",
      "/home/qinhao/anaconda3/envs/py3/lib/python3.6/site-packages/matplotlib/backends/backend_agg.py:180: RuntimeWarning: Glyph 38376 missing from current font.\n",
      "  font.set_text(s, 0, flags=flags)\n",
      "/home/qinhao/anaconda3/envs/py3/lib/python3.6/site-packages/matplotlib/backends/backend_agg.py:211: RuntimeWarning: Glyph 31185 missing from current font.\n",
      "  font.set_text(s, 0.0, flags=flags)\n",
      "/home/qinhao/anaconda3/envs/py3/lib/python3.6/site-packages/matplotlib/backends/backend_agg.py:180: RuntimeWarning: Glyph 31185 missing from current font.\n",
      "  font.set_text(s, 0, flags=flags)\n",
      "/home/qinhao/anaconda3/envs/py3/lib/python3.6/site-packages/matplotlib/backends/backend_agg.py:211: RuntimeWarning: Glyph 26576 missing from current font.\n",
      "  font.set_text(s, 0.0, flags=flags)\n",
      "/home/qinhao/anaconda3/envs/py3/lib/python3.6/site-packages/matplotlib/backends/backend_agg.py:211: RuntimeWarning: Glyph 31181 missing from current font.\n",
      "  font.set_text(s, 0.0, flags=flags)\n",
      "/home/qinhao/anaconda3/envs/py3/lib/python3.6/site-packages/matplotlib/backends/backend_agg.py:180: RuntimeWarning: Glyph 26576 missing from current font.\n",
      "  font.set_text(s, 0, flags=flags)\n",
      "/home/qinhao/anaconda3/envs/py3/lib/python3.6/site-packages/matplotlib/backends/backend_agg.py:180: RuntimeWarning: Glyph 31181 missing from current font.\n",
      "  font.set_text(s, 0, flags=flags)\n",
      "/home/qinhao/anaconda3/envs/py3/lib/python3.6/site-packages/matplotlib/backends/backend_agg.py:211: RuntimeWarning: Glyph 35282 missing from current font.\n",
      "  font.set_text(s, 0.0, flags=flags)\n",
      "/home/qinhao/anaconda3/envs/py3/lib/python3.6/site-packages/matplotlib/backends/backend_agg.py:211: RuntimeWarning: Glyph 24230 missing from current font.\n",
      "  font.set_text(s, 0.0, flags=flags)\n",
      "/home/qinhao/anaconda3/envs/py3/lib/python3.6/site-packages/matplotlib/backends/backend_agg.py:211: RuntimeWarning: Glyph 30475 missing from current font.\n",
      "  font.set_text(s, 0.0, flags=flags)\n",
      "/home/qinhao/anaconda3/envs/py3/lib/python3.6/site-packages/matplotlib/backends/backend_agg.py:180: RuntimeWarning: Glyph 35282 missing from current font.\n",
      "  font.set_text(s, 0, flags=flags)\n",
      "/home/qinhao/anaconda3/envs/py3/lib/python3.6/site-packages/matplotlib/backends/backend_agg.py:180: RuntimeWarning: Glyph 24230 missing from current font.\n",
      "  font.set_text(s, 0, flags=flags)\n",
      "/home/qinhao/anaconda3/envs/py3/lib/python3.6/site-packages/matplotlib/backends/backend_agg.py:180: RuntimeWarning: Glyph 30475 missing from current font.\n",
      "  font.set_text(s, 0, flags=flags)\n",
      "/home/qinhao/anaconda3/envs/py3/lib/python3.6/site-packages/matplotlib/backends/backend_agg.py:211: RuntimeWarning: Glyph 23646 missing from current font.\n",
      "  font.set_text(s, 0.0, flags=flags)\n",
      "/home/qinhao/anaconda3/envs/py3/lib/python3.6/site-packages/matplotlib/backends/backend_agg.py:211: RuntimeWarning: Glyph 20110 missing from current font.\n",
      "  font.set_text(s, 0.0, flags=flags)\n",
      "/home/qinhao/anaconda3/envs/py3/lib/python3.6/site-packages/matplotlib/backends/backend_agg.py:180: RuntimeWarning: Glyph 23646 missing from current font.\n",
      "  font.set_text(s, 0, flags=flags)\n",
      "/home/qinhao/anaconda3/envs/py3/lib/python3.6/site-packages/matplotlib/backends/backend_agg.py:180: RuntimeWarning: Glyph 20110 missing from current font.\n",
      "  font.set_text(s, 0, flags=flags)\n",
      "/home/qinhao/anaconda3/envs/py3/lib/python3.6/site-packages/matplotlib/backends/backend_agg.py:211: RuntimeWarning: Glyph 24418 missing from current font.\n",
      "  font.set_text(s, 0.0, flags=flags)\n",
      "/home/qinhao/anaconda3/envs/py3/lib/python3.6/site-packages/matplotlib/backends/backend_agg.py:211: RuntimeWarning: Glyph 24335 missing from current font.\n",
      "  font.set_text(s, 0.0, flags=flags)\n",
      "/home/qinhao/anaconda3/envs/py3/lib/python3.6/site-packages/matplotlib/backends/backend_agg.py:180: RuntimeWarning: Glyph 24418 missing from current font.\n",
      "  font.set_text(s, 0, flags=flags)\n",
      "/home/qinhao/anaconda3/envs/py3/lib/python3.6/site-packages/matplotlib/backends/backend_agg.py:180: RuntimeWarning: Glyph 24335 missing from current font.\n",
      "  font.set_text(s, 0, flags=flags)\n",
      "/home/qinhao/anaconda3/envs/py3/lib/python3.6/site-packages/matplotlib/backends/backend_agg.py:211: RuntimeWarning: Glyph 36879 missing from current font.\n",
      "  font.set_text(s, 0.0, flags=flags)\n",
      "/home/qinhao/anaconda3/envs/py3/lib/python3.6/site-packages/matplotlib/backends/backend_agg.py:211: RuntimeWarning: Glyph 36807 missing from current font.\n",
      "  font.set_text(s, 0.0, flags=flags)\n",
      "/home/qinhao/anaconda3/envs/py3/lib/python3.6/site-packages/matplotlib/backends/backend_agg.py:180: RuntimeWarning: Glyph 36879 missing from current font.\n",
      "  font.set_text(s, 0, flags=flags)\n",
      "/home/qinhao/anaconda3/envs/py3/lib/python3.6/site-packages/matplotlib/backends/backend_agg.py:180: RuntimeWarning: Glyph 36807 missing from current font.\n",
      "  font.set_text(s, 0, flags=flags)\n",
      "/home/qinhao/anaconda3/envs/py3/lib/python3.6/site-packages/matplotlib/backends/backend_agg.py:211: RuntimeWarning: Glyph 25277 missing from current font.\n",
      "  font.set_text(s, 0.0, flags=flags)\n",
      "/home/qinhao/anaconda3/envs/py3/lib/python3.6/site-packages/matplotlib/backends/backend_agg.py:211: RuntimeWarning: Glyph 35937 missing from current font.\n",
      "  font.set_text(s, 0.0, flags=flags)\n",
      "/home/qinhao/anaconda3/envs/py3/lib/python3.6/site-packages/matplotlib/backends/backend_agg.py:180: RuntimeWarning: Glyph 25277 missing from current font.\n",
      "  font.set_text(s, 0, flags=flags)\n",
      "/home/qinhao/anaconda3/envs/py3/lib/python3.6/site-packages/matplotlib/backends/backend_agg.py:180: RuntimeWarning: Glyph 35937 missing from current font.\n",
      "  font.set_text(s, 0, flags=flags)\n",
      "/home/qinhao/anaconda3/envs/py3/lib/python3.6/site-packages/matplotlib/backends/backend_agg.py:211: RuntimeWarning: Glyph 36923 missing from current font.\n",
      "  font.set_text(s, 0.0, flags=flags)\n",
      "/home/qinhao/anaconda3/envs/py3/lib/python3.6/site-packages/matplotlib/backends/backend_agg.py:211: RuntimeWarning: Glyph 36753 missing from current font.\n",
      "  font.set_text(s, 0.0, flags=flags)\n",
      "/home/qinhao/anaconda3/envs/py3/lib/python3.6/site-packages/matplotlib/backends/backend_agg.py:211: RuntimeWarning: Glyph 25512 missing from current font.\n",
      "  font.set_text(s, 0.0, flags=flags)\n",
      "/home/qinhao/anaconda3/envs/py3/lib/python3.6/site-packages/matplotlib/backends/backend_agg.py:211: RuntimeWarning: Glyph 29702 missing from current font.\n",
      "  font.set_text(s, 0.0, flags=flags)\n",
      "/home/qinhao/anaconda3/envs/py3/lib/python3.6/site-packages/matplotlib/backends/backend_agg.py:180: RuntimeWarning: Glyph 36923 missing from current font.\n",
      "  font.set_text(s, 0, flags=flags)\n",
      "/home/qinhao/anaconda3/envs/py3/lib/python3.6/site-packages/matplotlib/backends/backend_agg.py:180: RuntimeWarning: Glyph 36753 missing from current font.\n",
      "  font.set_text(s, 0, flags=flags)\n",
      "/home/qinhao/anaconda3/envs/py3/lib/python3.6/site-packages/matplotlib/backends/backend_agg.py:180: RuntimeWarning: Glyph 25512 missing from current font.\n",
      "  font.set_text(s, 0, flags=flags)\n",
      "/home/qinhao/anaconda3/envs/py3/lib/python3.6/site-packages/matplotlib/backends/backend_agg.py:180: RuntimeWarning: Glyph 29702 missing from current font.\n",
      "  font.set_text(s, 0, flags=flags)\n",
      "/home/qinhao/anaconda3/envs/py3/lib/python3.6/site-packages/matplotlib/backends/backend_agg.py:211: RuntimeWarning: Glyph 20351 missing from current font.\n",
      "  font.set_text(s, 0.0, flags=flags)\n",
      "/home/qinhao/anaconda3/envs/py3/lib/python3.6/site-packages/matplotlib/backends/backend_agg.py:180: RuntimeWarning: Glyph 20351 missing from current font.\n",
      "  font.set_text(s, 0, flags=flags)\n",
      "/home/qinhao/anaconda3/envs/py3/lib/python3.6/site-packages/matplotlib/backends/backend_agg.py:211: RuntimeWarning: Glyph 35745 missing from current font.\n",
      "  font.set_text(s, 0.0, flags=flags)\n",
      "/home/qinhao/anaconda3/envs/py3/lib/python3.6/site-packages/matplotlib/backends/backend_agg.py:180: RuntimeWarning: Glyph 35745 missing from current font.\n",
      "  font.set_text(s, 0, flags=flags)\n",
      "/home/qinhao/anaconda3/envs/py3/lib/python3.6/site-packages/matplotlib/backends/backend_agg.py:211: RuntimeWarning: Glyph 31639 missing from current font.\n",
      "  font.set_text(s, 0.0, flags=flags)\n",
      "/home/qinhao/anaconda3/envs/py3/lib/python3.6/site-packages/matplotlib/backends/backend_agg.py:180: RuntimeWarning: Glyph 31639 missing from current font.\n",
      "  font.set_text(s, 0, flags=flags)\n",
      "/home/qinhao/anaconda3/envs/py3/lib/python3.6/site-packages/matplotlib/backends/backend_agg.py:211: RuntimeWarning: Glyph 29289 missing from current font.\n",
      "  font.set_text(s, 0.0, flags=flags)\n",
      "/home/qinhao/anaconda3/envs/py3/lib/python3.6/site-packages/matplotlib/backends/backend_agg.py:211: RuntimeWarning: Glyph 20307 missing from current font.\n",
      "  font.set_text(s, 0.0, flags=flags)\n",
      "/home/qinhao/anaconda3/envs/py3/lib/python3.6/site-packages/matplotlib/backends/backend_agg.py:180: RuntimeWarning: Glyph 29289 missing from current font.\n",
      "  font.set_text(s, 0, flags=flags)\n",
      "/home/qinhao/anaconda3/envs/py3/lib/python3.6/site-packages/matplotlib/backends/backend_agg.py:180: RuntimeWarning: Glyph 20307 missing from current font.\n",
      "  font.set_text(s, 0, flags=flags)\n",
      "/home/qinhao/anaconda3/envs/py3/lib/python3.6/site-packages/matplotlib/backends/backend_agg.py:211: RuntimeWarning: Glyph 29366 missing from current font.\n",
      "  font.set_text(s, 0.0, flags=flags)\n",
      "/home/qinhao/anaconda3/envs/py3/lib/python3.6/site-packages/matplotlib/backends/backend_agg.py:180: RuntimeWarning: Glyph 29366 missing from current font.\n",
      "  font.set_text(s, 0, flags=flags)\n",
      "/home/qinhao/anaconda3/envs/py3/lib/python3.6/site-packages/matplotlib/backends/backend_agg.py:211: RuntimeWarning: Glyph 36816 missing from current font.\n",
      "  font.set_text(s, 0.0, flags=flags)\n",
      "/home/qinhao/anaconda3/envs/py3/lib/python3.6/site-packages/matplotlib/backends/backend_agg.py:211: RuntimeWarning: Glyph 21160 missing from current font.\n",
      "  font.set_text(s, 0.0, flags=flags)\n",
      "/home/qinhao/anaconda3/envs/py3/lib/python3.6/site-packages/matplotlib/backends/backend_agg.py:180: RuntimeWarning: Glyph 36816 missing from current font.\n",
      "  font.set_text(s, 0, flags=flags)\n",
      "/home/qinhao/anaconda3/envs/py3/lib/python3.6/site-packages/matplotlib/backends/backend_agg.py:180: RuntimeWarning: Glyph 21160 missing from current font.\n",
      "  font.set_text(s, 0, flags=flags)\n",
      "/home/qinhao/anaconda3/envs/py3/lib/python3.6/site-packages/matplotlib/backends/backend_agg.py:211: RuntimeWarning: Glyph 35266 missing from current font.\n",
      "  font.set_text(s, 0.0, flags=flags)\n",
      "/home/qinhao/anaconda3/envs/py3/lib/python3.6/site-packages/matplotlib/backends/backend_agg.py:211: RuntimeWarning: Glyph 23519 missing from current font.\n",
      "  font.set_text(s, 0.0, flags=flags)\n",
      "/home/qinhao/anaconda3/envs/py3/lib/python3.6/site-packages/matplotlib/backends/backend_agg.py:180: RuntimeWarning: Glyph 35266 missing from current font.\n",
      "  font.set_text(s, 0, flags=flags)\n",
      "/home/qinhao/anaconda3/envs/py3/lib/python3.6/site-packages/matplotlib/backends/backend_agg.py:180: RuntimeWarning: Glyph 23519 missing from current font.\n",
      "  font.set_text(s, 0, flags=flags)\n",
      "/home/qinhao/anaconda3/envs/py3/lib/python3.6/site-packages/matplotlib/backends/backend_agg.py:211: RuntimeWarning: Glyph 20135 missing from current font.\n",
      "  font.set_text(s, 0.0, flags=flags)\n",
      "/home/qinhao/anaconda3/envs/py3/lib/python3.6/site-packages/matplotlib/backends/backend_agg.py:211: RuntimeWarning: Glyph 29983 missing from current font.\n",
      "  font.set_text(s, 0.0, flags=flags)\n",
      "/home/qinhao/anaconda3/envs/py3/lib/python3.6/site-packages/matplotlib/backends/backend_agg.py:180: RuntimeWarning: Glyph 20135 missing from current font.\n",
      "  font.set_text(s, 0, flags=flags)\n",
      "/home/qinhao/anaconda3/envs/py3/lib/python3.6/site-packages/matplotlib/backends/backend_agg.py:180: RuntimeWarning: Glyph 29983 missing from current font.\n",
      "  font.set_text(s, 0, flags=flags)\n",
      "/home/qinhao/anaconda3/envs/py3/lib/python3.6/site-packages/matplotlib/backends/backend_agg.py:211: RuntimeWarning: Glyph 23478 missing from current font.\n",
      "  font.set_text(s, 0.0, flags=flags)\n",
      "/home/qinhao/anaconda3/envs/py3/lib/python3.6/site-packages/matplotlib/backends/backend_agg.py:180: RuntimeWarning: Glyph 23478 missing from current font.\n",
      "  font.set_text(s, 0, flags=flags)\n",
      "/home/qinhao/anaconda3/envs/py3/lib/python3.6/site-packages/matplotlib/backends/backend_agg.py:211: RuntimeWarning: Glyph 25299 missing from current font.\n",
      "  font.set_text(s, 0.0, flags=flags)\n",
      "/home/qinhao/anaconda3/envs/py3/lib/python3.6/site-packages/matplotlib/backends/backend_agg.py:211: RuntimeWarning: Glyph 23637 missing from current font.\n",
      "  font.set_text(s, 0.0, flags=flags)\n",
      "/home/qinhao/anaconda3/envs/py3/lib/python3.6/site-packages/matplotlib/backends/backend_agg.py:180: RuntimeWarning: Glyph 25299 missing from current font.\n",
      "  font.set_text(s, 0, flags=flags)\n",
      "/home/qinhao/anaconda3/envs/py3/lib/python3.6/site-packages/matplotlib/backends/backend_agg.py:180: RuntimeWarning: Glyph 23637 missing from current font.\n",
      "  font.set_text(s, 0, flags=flags)\n",
      "/home/qinhao/anaconda3/envs/py3/lib/python3.6/site-packages/matplotlib/backends/backend_agg.py:211: RuntimeWarning: Glyph 20844 missing from current font.\n",
      "  font.set_text(s, 0.0, flags=flags)\n",
      "/home/qinhao/anaconda3/envs/py3/lib/python3.6/site-packages/matplotlib/backends/backend_agg.py:180: RuntimeWarning: Glyph 20844 missing from current font.\n",
      "  font.set_text(s, 0, flags=flags)\n",
      "/home/qinhao/anaconda3/envs/py3/lib/python3.6/site-packages/matplotlib/backends/backend_agg.py:211: RuntimeWarning: Glyph 29468 missing from current font.\n",
      "  font.set_text(s, 0.0, flags=flags)\n",
      "/home/qinhao/anaconda3/envs/py3/lib/python3.6/site-packages/matplotlib/backends/backend_agg.py:211: RuntimeWarning: Glyph 24819 missing from current font.\n",
      "  font.set_text(s, 0.0, flags=flags)\n",
      "/home/qinhao/anaconda3/envs/py3/lib/python3.6/site-packages/matplotlib/backends/backend_agg.py:180: RuntimeWarning: Glyph 29468 missing from current font.\n",
      "  font.set_text(s, 0, flags=flags)\n",
      "/home/qinhao/anaconda3/envs/py3/lib/python3.6/site-packages/matplotlib/backends/backend_agg.py:180: RuntimeWarning: Glyph 24819 missing from current font.\n",
      "  font.set_text(s, 0, flags=flags)\n",
      "/home/qinhao/anaconda3/envs/py3/lib/python3.6/site-packages/matplotlib/backends/backend_agg.py:211: RuntimeWarning: Glyph 36873 missing from current font.\n",
      "  font.set_text(s, 0.0, flags=flags)\n",
      "/home/qinhao/anaconda3/envs/py3/lib/python3.6/site-packages/matplotlib/backends/backend_agg.py:211: RuntimeWarning: Glyph 23450 missing from current font.\n",
      "  font.set_text(s, 0.0, flags=flags)\n",
      "/home/qinhao/anaconda3/envs/py3/lib/python3.6/site-packages/matplotlib/backends/backend_agg.py:180: RuntimeWarning: Glyph 36873 missing from current font.\n",
      "  font.set_text(s, 0, flags=flags)\n",
      "/home/qinhao/anaconda3/envs/py3/lib/python3.6/site-packages/matplotlib/backends/backend_agg.py:180: RuntimeWarning: Glyph 23450 missing from current font.\n",
      "  font.set_text(s, 0, flags=flags)\n",
      "/home/qinhao/anaconda3/envs/py3/lib/python3.6/site-packages/matplotlib/backends/backend_agg.py:211: RuntimeWarning: Glyph 20041 missing from current font.\n",
      "  font.set_text(s, 0.0, flags=flags)\n",
      "/home/qinhao/anaconda3/envs/py3/lib/python3.6/site-packages/matplotlib/backends/backend_agg.py:180: RuntimeWarning: Glyph 20041 missing from current font.\n",
      "  font.set_text(s, 0, flags=flags)\n",
      "/home/qinhao/anaconda3/envs/py3/lib/python3.6/site-packages/matplotlib/backends/backend_agg.py:211: RuntimeWarning: Glyph 24314 missing from current font.\n",
      "  font.set_text(s, 0.0, flags=flags)\n",
      "/home/qinhao/anaconda3/envs/py3/lib/python3.6/site-packages/matplotlib/backends/backend_agg.py:211: RuntimeWarning: Glyph 31435 missing from current font.\n",
      "  font.set_text(s, 0.0, flags=flags)\n",
      "/home/qinhao/anaconda3/envs/py3/lib/python3.6/site-packages/matplotlib/backends/backend_agg.py:180: RuntimeWarning: Glyph 24314 missing from current font.\n",
      "  font.set_text(s, 0, flags=flags)\n",
      "/home/qinhao/anaconda3/envs/py3/lib/python3.6/site-packages/matplotlib/backends/backend_agg.py:180: RuntimeWarning: Glyph 31435 missing from current font.\n",
      "  font.set_text(s, 0, flags=flags)\n",
      "/home/qinhao/anaconda3/envs/py3/lib/python3.6/site-packages/matplotlib/backends/backend_agg.py:211: RuntimeWarning: Glyph 20005 missing from current font.\n",
      "  font.set_text(s, 0.0, flags=flags)\n",
      "/home/qinhao/anaconda3/envs/py3/lib/python3.6/site-packages/matplotlib/backends/backend_agg.py:211: RuntimeWarning: Glyph 35880 missing from current font.\n",
      "  font.set_text(s, 0.0, flags=flags)\n",
      "/home/qinhao/anaconda3/envs/py3/lib/python3.6/site-packages/matplotlib/backends/backend_agg.py:180: RuntimeWarning: Glyph 20005 missing from current font.\n",
      "  font.set_text(s, 0, flags=flags)\n",
      "/home/qinhao/anaconda3/envs/py3/lib/python3.6/site-packages/matplotlib/backends/backend_agg.py:180: RuntimeWarning: Glyph 35880 missing from current font.\n",
      "  font.set_text(s, 0, flags=flags)\n",
      "/home/qinhao/anaconda3/envs/py3/lib/python3.6/site-packages/matplotlib/backends/backend_agg.py:211: RuntimeWarning: Glyph 23548 missing from current font.\n",
      "  font.set_text(s, 0.0, flags=flags)\n",
      "/home/qinhao/anaconda3/envs/py3/lib/python3.6/site-packages/matplotlib/backends/backend_agg.py:180: RuntimeWarning: Glyph 23548 missing from current font.\n",
      "  font.set_text(s, 0, flags=flags)\n",
      "/home/qinhao/anaconda3/envs/py3/lib/python3.6/site-packages/matplotlib/backends/backend_agg.py:211: RuntimeWarning: Glyph 20986 missing from current font.\n",
      "  font.set_text(s, 0.0, flags=flags)\n",
      "/home/qinhao/anaconda3/envs/py3/lib/python3.6/site-packages/matplotlib/backends/backend_agg.py:176: RuntimeWarning: Glyph 20986 missing from current font.\n",
      "  font.load_char(ord(s), flags=flags)\n",
      "/home/qinhao/anaconda3/envs/py3/lib/python3.6/site-packages/matplotlib/backends/backend_agg.py:211: RuntimeWarning: Glyph 22522 missing from current font.\n",
      "  font.set_text(s, 0.0, flags=flags)\n",
      "/home/qinhao/anaconda3/envs/py3/lib/python3.6/site-packages/matplotlib/backends/backend_agg.py:211: RuntimeWarning: Glyph 30784 missing from current font.\n",
      "  font.set_text(s, 0.0, flags=flags)\n",
      "/home/qinhao/anaconda3/envs/py3/lib/python3.6/site-packages/matplotlib/backends/backend_agg.py:180: RuntimeWarning: Glyph 22522 missing from current font.\n",
      "  font.set_text(s, 0, flags=flags)\n",
      "/home/qinhao/anaconda3/envs/py3/lib/python3.6/site-packages/matplotlib/backends/backend_agg.py:180: RuntimeWarning: Glyph 30784 missing from current font.\n",
      "  font.set_text(s, 0, flags=flags)\n",
      "/home/qinhao/anaconda3/envs/py3/lib/python3.6/site-packages/matplotlib/backends/backend_agg.py:211: RuntimeWarning: Glyph 30693 missing from current font.\n",
      "  font.set_text(s, 0.0, flags=flags)\n",
      "/home/qinhao/anaconda3/envs/py3/lib/python3.6/site-packages/matplotlib/backends/backend_agg.py:211: RuntimeWarning: Glyph 35782 missing from current font.\n",
      "  font.set_text(s, 0.0, flags=flags)\n",
      "/home/qinhao/anaconda3/envs/py3/lib/python3.6/site-packages/matplotlib/backends/backend_agg.py:180: RuntimeWarning: Glyph 30693 missing from current font.\n",
      "  font.set_text(s, 0, flags=flags)\n",
      "/home/qinhao/anaconda3/envs/py3/lib/python3.6/site-packages/matplotlib/backends/backend_agg.py:180: RuntimeWarning: Glyph 35782 missing from current font.\n",
      "  font.set_text(s, 0, flags=flags)\n",
      "/home/qinhao/anaconda3/envs/py3/lib/python3.6/site-packages/matplotlib/backends/backend_agg.py:211: RuntimeWarning: Glyph 24635 missing from current font.\n",
      "  font.set_text(s, 0.0, flags=flags)\n",
      "/home/qinhao/anaconda3/envs/py3/lib/python3.6/site-packages/matplotlib/backends/backend_agg.py:211: RuntimeWarning: Glyph 26159 missing from current font.\n",
      "  font.set_text(s, 0.0, flags=flags)\n",
      "/home/qinhao/anaconda3/envs/py3/lib/python3.6/site-packages/matplotlib/backends/backend_agg.py:180: RuntimeWarning: Glyph 24635 missing from current font.\n",
      "  font.set_text(s, 0, flags=flags)\n",
      "/home/qinhao/anaconda3/envs/py3/lib/python3.6/site-packages/matplotlib/backends/backend_agg.py:180: RuntimeWarning: Glyph 26159 missing from current font.\n",
      "  font.set_text(s, 0, flags=flags)\n",
      "/home/qinhao/anaconda3/envs/py3/lib/python3.6/site-packages/matplotlib/backends/backend_agg.py:211: RuntimeWarning: Glyph 20010 missing from current font.\n",
      "  font.set_text(s, 0.0, flags=flags)\n",
      "/home/qinhao/anaconda3/envs/py3/lib/python3.6/site-packages/matplotlib/backends/backend_agg.py:211: RuntimeWarning: Glyph 20154 missing from current font.\n",
      "  font.set_text(s, 0.0, flags=flags)\n",
      "/home/qinhao/anaconda3/envs/py3/lib/python3.6/site-packages/matplotlib/backends/backend_agg.py:180: RuntimeWarning: Glyph 20010 missing from current font.\n",
      "  font.set_text(s, 0, flags=flags)\n",
      "/home/qinhao/anaconda3/envs/py3/lib/python3.6/site-packages/matplotlib/backends/backend_agg.py:180: RuntimeWarning: Glyph 20154 missing from current font.\n",
      "  font.set_text(s, 0, flags=flags)\n",
      "/home/qinhao/anaconda3/envs/py3/lib/python3.6/site-packages/matplotlib/backends/backend_agg.py:211: RuntimeWarning: Glyph 22242 missing from current font.\n",
      "  font.set_text(s, 0.0, flags=flags)\n",
      "/home/qinhao/anaconda3/envs/py3/lib/python3.6/site-packages/matplotlib/backends/backend_agg.py:180: RuntimeWarning: Glyph 22242 missing from current font.\n",
      "  font.set_text(s, 0, flags=flags)\n",
      "/home/qinhao/anaconda3/envs/py3/lib/python3.6/site-packages/matplotlib/backends/backend_agg.py:211: RuntimeWarning: Glyph 27963 missing from current font.\n",
      "  font.set_text(s, 0.0, flags=flags)\n",
      "/home/qinhao/anaconda3/envs/py3/lib/python3.6/site-packages/matplotlib/backends/backend_agg.py:180: RuntimeWarning: Glyph 27963 missing from current font.\n",
      "  font.set_text(s, 0, flags=flags)\n",
      "/home/qinhao/anaconda3/envs/py3/lib/python3.6/site-packages/matplotlib/backends/backend_agg.py:211: RuntimeWarning: Glyph 19981 missing from current font.\n",
      "  font.set_text(s, 0.0, flags=flags)\n",
      "/home/qinhao/anaconda3/envs/py3/lib/python3.6/site-packages/matplotlib/backends/backend_agg.py:211: RuntimeWarning: Glyph 21487 missing from current font.\n",
      "  font.set_text(s, 0.0, flags=flags)\n",
      "/home/qinhao/anaconda3/envs/py3/lib/python3.6/site-packages/matplotlib/backends/backend_agg.py:211: RuntimeWarning: Glyph 25110 missing from current font.\n",
      "  font.set_text(s, 0.0, flags=flags)\n",
      "/home/qinhao/anaconda3/envs/py3/lib/python3.6/site-packages/matplotlib/backends/backend_agg.py:211: RuntimeWarning: Glyph 32570 missing from current font.\n",
      "  font.set_text(s, 0.0, flags=flags)\n",
      "/home/qinhao/anaconda3/envs/py3/lib/python3.6/site-packages/matplotlib/backends/backend_agg.py:180: RuntimeWarning: Glyph 19981 missing from current font.\n",
      "  font.set_text(s, 0, flags=flags)\n",
      "/home/qinhao/anaconda3/envs/py3/lib/python3.6/site-packages/matplotlib/backends/backend_agg.py:180: RuntimeWarning: Glyph 21487 missing from current font.\n",
      "  font.set_text(s, 0, flags=flags)\n",
      "/home/qinhao/anaconda3/envs/py3/lib/python3.6/site-packages/matplotlib/backends/backend_agg.py:180: RuntimeWarning: Glyph 25110 missing from current font.\n",
      "  font.set_text(s, 0, flags=flags)\n",
      "/home/qinhao/anaconda3/envs/py3/lib/python3.6/site-packages/matplotlib/backends/backend_agg.py:180: RuntimeWarning: Glyph 32570 missing from current font.\n",
      "  font.set_text(s, 0, flags=flags)\n",
      "/home/qinhao/anaconda3/envs/py3/lib/python3.6/site-packages/matplotlib/backends/backend_agg.py:211: RuntimeWarning: Glyph 29615 missing from current font.\n",
      "  font.set_text(s, 0.0, flags=flags)\n",
      "/home/qinhao/anaconda3/envs/py3/lib/python3.6/site-packages/matplotlib/backends/backend_agg.py:180: RuntimeWarning: Glyph 29615 missing from current font.\n",
      "  font.set_text(s, 0, flags=flags)\n",
      "/home/qinhao/anaconda3/envs/py3/lib/python3.6/site-packages/matplotlib/backends/backend_agg.py:211: RuntimeWarning: Glyph 26412 missing from current font.\n",
      "  font.set_text(s, 0.0, flags=flags)\n",
      "/home/qinhao/anaconda3/envs/py3/lib/python3.6/site-packages/matplotlib/backends/backend_agg.py:180: RuntimeWarning: Glyph 26412 missing from current font.\n",
      "  font.set_text(s, 0, flags=flags)\n",
      "/home/qinhao/anaconda3/envs/py3/lib/python3.6/site-packages/matplotlib/backends/backend_agg.py:211: RuntimeWarning: Glyph 23436 missing from current font.\n",
      "  font.set_text(s, 0.0, flags=flags)\n",
      "/home/qinhao/anaconda3/envs/py3/lib/python3.6/site-packages/matplotlib/backends/backend_agg.py:211: RuntimeWarning: Glyph 21892 missing from current font.\n",
      "  font.set_text(s, 0.0, flags=flags)\n",
      "/home/qinhao/anaconda3/envs/py3/lib/python3.6/site-packages/matplotlib/backends/backend_agg.py:180: RuntimeWarning: Glyph 23436 missing from current font.\n",
      "  font.set_text(s, 0, flags=flags)\n",
      "/home/qinhao/anaconda3/envs/py3/lib/python3.6/site-packages/matplotlib/backends/backend_agg.py:180: RuntimeWarning: Glyph 21892 missing from current font.\n",
      "  font.set_text(s, 0, flags=flags)\n",
      "/home/qinhao/anaconda3/envs/py3/lib/python3.6/site-packages/matplotlib/backends/backend_agg.py:211: RuntimeWarning: Glyph 26089 missing from current font.\n",
      "  font.set_text(s, 0.0, flags=flags)\n",
      "/home/qinhao/anaconda3/envs/py3/lib/python3.6/site-packages/matplotlib/backends/backend_agg.py:176: RuntimeWarning: Glyph 26089 missing from current font.\n",
      "  font.load_char(ord(s), flags=flags)\n",
      "/home/qinhao/anaconda3/envs/py3/lib/python3.6/site-packages/matplotlib/backends/backend_agg.py:211: RuntimeWarning: Glyph 21476 missing from current font.\n",
      "  font.set_text(s, 0.0, flags=flags)\n",
      "/home/qinhao/anaconda3/envs/py3/lib/python3.6/site-packages/matplotlib/backends/backend_agg.py:211: RuntimeWarning: Glyph 22467 missing from current font.\n",
      "  font.set_text(s, 0.0, flags=flags)\n",
      "/home/qinhao/anaconda3/envs/py3/lib/python3.6/site-packages/matplotlib/backends/backend_agg.py:211: RuntimeWarning: Glyph 21450 missing from current font.\n",
      "  font.set_text(s, 0.0, flags=flags)\n",
      "/home/qinhao/anaconda3/envs/py3/lib/python3.6/site-packages/matplotlib/backends/backend_agg.py:180: RuntimeWarning: Glyph 21476 missing from current font.\n",
      "  font.set_text(s, 0, flags=flags)\n",
      "/home/qinhao/anaconda3/envs/py3/lib/python3.6/site-packages/matplotlib/backends/backend_agg.py:180: RuntimeWarning: Glyph 22467 missing from current font.\n",
      "  font.set_text(s, 0, flags=flags)\n",
      "/home/qinhao/anaconda3/envs/py3/lib/python3.6/site-packages/matplotlib/backends/backend_agg.py:180: RuntimeWarning: Glyph 21450 missing from current font.\n",
      "  font.set_text(s, 0, flags=flags)\n",
      "/home/qinhao/anaconda3/envs/py3/lib/python3.6/site-packages/matplotlib/backends/backend_agg.py:211: RuntimeWarning: Glyph 32654 missing from current font.\n",
      "  font.set_text(s, 0.0, flags=flags)\n",
      "/home/qinhao/anaconda3/envs/py3/lib/python3.6/site-packages/matplotlib/backends/backend_agg.py:211: RuntimeWarning: Glyph 32034 missing from current font.\n",
      "  font.set_text(s, 0.0, flags=flags)\n",
      "/home/qinhao/anaconda3/envs/py3/lib/python3.6/site-packages/matplotlib/backends/backend_agg.py:211: RuntimeWarning: Glyph 36798 missing from current font.\n",
      "  font.set_text(s, 0.0, flags=flags)\n",
      "/home/qinhao/anaconda3/envs/py3/lib/python3.6/site-packages/matplotlib/backends/backend_agg.py:211: RuntimeWarning: Glyph 31859 missing from current font.\n",
      "  font.set_text(s, 0.0, flags=flags)\n",
      "/home/qinhao/anaconda3/envs/py3/lib/python3.6/site-packages/matplotlib/backends/backend_agg.py:211: RuntimeWarning: Glyph 20122 missing from current font.\n",
      "  font.set_text(s, 0.0, flags=flags)\n",
      "/home/qinhao/anaconda3/envs/py3/lib/python3.6/site-packages/matplotlib/backends/backend_agg.py:180: RuntimeWarning: Glyph 32654 missing from current font.\n",
      "  font.set_text(s, 0, flags=flags)\n",
      "/home/qinhao/anaconda3/envs/py3/lib/python3.6/site-packages/matplotlib/backends/backend_agg.py:180: RuntimeWarning: Glyph 32034 missing from current font.\n",
      "  font.set_text(s, 0, flags=flags)\n",
      "/home/qinhao/anaconda3/envs/py3/lib/python3.6/site-packages/matplotlib/backends/backend_agg.py:180: RuntimeWarning: Glyph 36798 missing from current font.\n",
      "  font.set_text(s, 0, flags=flags)\n",
      "/home/qinhao/anaconda3/envs/py3/lib/python3.6/site-packages/matplotlib/backends/backend_agg.py:180: RuntimeWarning: Glyph 31859 missing from current font.\n",
      "  font.set_text(s, 0, flags=flags)\n",
      "/home/qinhao/anaconda3/envs/py3/lib/python3.6/site-packages/matplotlib/backends/backend_agg.py:180: RuntimeWarning: Glyph 20122 missing from current font.\n",
      "  font.set_text(s, 0, flags=flags)\n",
      "/home/qinhao/anaconda3/envs/py3/lib/python3.6/site-packages/matplotlib/backends/backend_agg.py:211: RuntimeWarning: Glyph 21360 missing from current font.\n",
      "  font.set_text(s, 0.0, flags=flags)\n",
      "/home/qinhao/anaconda3/envs/py3/lib/python3.6/site-packages/matplotlib/backends/backend_agg.py:180: RuntimeWarning: Glyph 21360 missing from current font.\n",
      "  font.set_text(s, 0, flags=flags)\n",
      "/home/qinhao/anaconda3/envs/py3/lib/python3.6/site-packages/matplotlib/backends/backend_agg.py:211: RuntimeWarning: Glyph 20195 missing from current font.\n",
      "  font.set_text(s, 0.0, flags=flags)\n",
      "/home/qinhao/anaconda3/envs/py3/lib/python3.6/site-packages/matplotlib/backends/backend_agg.py:180: RuntimeWarning: Glyph 20195 missing from current font.\n",
      "  font.set_text(s, 0, flags=flags)\n",
      "/home/qinhao/anaconda3/envs/py3/lib/python3.6/site-packages/matplotlib/backends/backend_agg.py:211: RuntimeWarning: Glyph 25991 missing from current font.\n",
      "  font.set_text(s, 0.0, flags=flags)\n",
      "/home/qinhao/anaconda3/envs/py3/lib/python3.6/site-packages/matplotlib/backends/backend_agg.py:180: RuntimeWarning: Glyph 25991 missing from current font.\n",
      "  font.set_text(s, 0, flags=flags)\n",
      "/home/qinhao/anaconda3/envs/py3/lib/python3.6/site-packages/matplotlib/backends/backend_agg.py:211: RuntimeWarning: Glyph 20415 missing from current font.\n",
      "  font.set_text(s, 0.0, flags=flags)\n",
      "/home/qinhao/anaconda3/envs/py3/lib/python3.6/site-packages/matplotlib/backends/backend_agg.py:176: RuntimeWarning: Glyph 20415 missing from current font.\n",
      "  font.load_char(ord(s), flags=flags)\n",
      "/home/qinhao/anaconda3/envs/py3/lib/python3.6/site-packages/matplotlib/backends/backend_agg.py:211: RuntimeWarning: Glyph 35265 missing from current font.\n",
      "  font.set_text(s, 0.0, flags=flags)\n",
      "/home/qinhao/anaconda3/envs/py3/lib/python3.6/site-packages/matplotlib/backends/backend_agg.py:176: RuntimeWarning: Glyph 35265 missing from current font.\n",
      "  font.load_char(ord(s), flags=flags)\n",
      "/home/qinhao/anaconda3/envs/py3/lib/python3.6/site-packages/matplotlib/backends/backend_agg.py:211: RuntimeWarning: Glyph 24076 missing from current font.\n",
      "  font.set_text(s, 0.0, flags=flags)\n",
      "/home/qinhao/anaconda3/envs/py3/lib/python3.6/site-packages/matplotlib/backends/backend_agg.py:211: RuntimeWarning: Glyph 33098 missing from current font.\n",
      "  font.set_text(s, 0.0, flags=flags)\n",
      "/home/qinhao/anaconda3/envs/py3/lib/python3.6/site-packages/matplotlib/backends/backend_agg.py:180: RuntimeWarning: Glyph 24076 missing from current font.\n",
      "  font.set_text(s, 0, flags=flags)\n",
      "/home/qinhao/anaconda3/envs/py3/lib/python3.6/site-packages/matplotlib/backends/backend_agg.py:180: RuntimeWarning: Glyph 33098 missing from current font.\n",
      "  font.set_text(s, 0, flags=flags)\n",
      "/home/qinhao/anaconda3/envs/py3/lib/python3.6/site-packages/matplotlib/backends/backend_agg.py:211: RuntimeWarning: Glyph 26356 missing from current font.\n",
      "  font.set_text(s, 0.0, flags=flags)\n",
      "/home/qinhao/anaconda3/envs/py3/lib/python3.6/site-packages/matplotlib/backends/backend_agg.py:211: RuntimeWarning: Glyph 20026 missing from current font.\n",
      "  font.set_text(s, 0.0, flags=flags)\n",
      "/home/qinhao/anaconda3/envs/py3/lib/python3.6/site-packages/matplotlib/backends/backend_agg.py:180: RuntimeWarning: Glyph 26356 missing from current font.\n",
      "  font.set_text(s, 0, flags=flags)\n",
      "/home/qinhao/anaconda3/envs/py3/lib/python3.6/site-packages/matplotlib/backends/backend_agg.py:180: RuntimeWarning: Glyph 20026 missing from current font.\n",
      "  font.set_text(s, 0, flags=flags)\n",
      "/home/qinhao/anaconda3/envs/py3/lib/python3.6/site-packages/matplotlib/backends/backend_agg.py:211: RuntimeWarning: Glyph 22788 missing from current font.\n",
      "  font.set_text(s, 0.0, flags=flags)\n",
      "/home/qinhao/anaconda3/envs/py3/lib/python3.6/site-packages/matplotlib/backends/backend_agg.py:180: RuntimeWarning: Glyph 22788 missing from current font.\n",
      "  font.set_text(s, 0, flags=flags)\n",
      "/home/qinhao/anaconda3/envs/py3/lib/python3.6/site-packages/matplotlib/backends/backend_agg.py:211: RuntimeWarning: Glyph 21457 missing from current font.\n",
      "  font.set_text(s, 0.0, flags=flags)\n",
      "/home/qinhao/anaconda3/envs/py3/lib/python3.6/site-packages/matplotlib/backends/backend_agg.py:180: RuntimeWarning: Glyph 21457 missing from current font.\n",
      "  font.set_text(s, 0, flags=flags)\n",
      "/home/qinhao/anaconda3/envs/py3/lib/python3.6/site-packages/matplotlib/backends/backend_agg.py:211: RuntimeWarning: Glyph 25345 missing from current font.\n",
      "  font.set_text(s, 0.0, flags=flags)\n",
      "/home/qinhao/anaconda3/envs/py3/lib/python3.6/site-packages/matplotlib/backends/backend_agg.py:211: RuntimeWarning: Glyph 32493 missing from current font.\n",
      "  font.set_text(s, 0.0, flags=flags)\n",
      "/home/qinhao/anaconda3/envs/py3/lib/python3.6/site-packages/matplotlib/backends/backend_agg.py:180: RuntimeWarning: Glyph 25345 missing from current font.\n",
      "  font.set_text(s, 0, flags=flags)\n",
      "/home/qinhao/anaconda3/envs/py3/lib/python3.6/site-packages/matplotlib/backends/backend_agg.py:180: RuntimeWarning: Glyph 32493 missing from current font.\n",
      "  font.set_text(s, 0, flags=flags)\n",
      "/home/qinhao/anaconda3/envs/py3/lib/python3.6/site-packages/matplotlib/backends/backend_agg.py:211: RuntimeWarning: Glyph 26029 missing from current font.\n",
      "  font.set_text(s, 0.0, flags=flags)\n",
      "/home/qinhao/anaconda3/envs/py3/lib/python3.6/site-packages/matplotlib/backends/backend_agg.py:180: RuntimeWarning: Glyph 26029 missing from current font.\n",
      "  font.set_text(s, 0, flags=flags)\n",
      "/home/qinhao/anaconda3/envs/py3/lib/python3.6/site-packages/matplotlib/backends/backend_agg.py:211: RuntimeWarning: Glyph 23567 missing from current font.\n",
      "  font.set_text(s, 0.0, flags=flags)\n",
      "/home/qinhao/anaconda3/envs/py3/lib/python3.6/site-packages/matplotlib/backends/backend_agg.py:211: RuntimeWarning: Glyph 24133 missing from current font.\n",
      "  font.set_text(s, 0.0, flags=flags)\n",
      "/home/qinhao/anaconda3/envs/py3/lib/python3.6/site-packages/matplotlib/backends/backend_agg.py:180: RuntimeWarning: Glyph 23567 missing from current font.\n",
      "  font.set_text(s, 0, flags=flags)\n",
      "/home/qinhao/anaconda3/envs/py3/lib/python3.6/site-packages/matplotlib/backends/backend_agg.py:180: RuntimeWarning: Glyph 24133 missing from current font.\n",
      "  font.set_text(s, 0, flags=flags)\n",
      "/home/qinhao/anaconda3/envs/py3/lib/python3.6/site-packages/matplotlib/backends/backend_agg.py:211: RuntimeWarning: Glyph 36827 missing from current font.\n",
      "  font.set_text(s, 0.0, flags=flags)\n",
      "/home/qinhao/anaconda3/envs/py3/lib/python3.6/site-packages/matplotlib/backends/backend_agg.py:180: RuntimeWarning: Glyph 36827 missing from current font.\n",
      "  font.set_text(s, 0, flags=flags)\n",
      "/home/qinhao/anaconda3/envs/py3/lib/python3.6/site-packages/matplotlib/backends/backend_agg.py:211: RuntimeWarning: Glyph 19990 missing from current font.\n",
      "  font.set_text(s, 0.0, flags=flags)\n",
      "/home/qinhao/anaconda3/envs/py3/lib/python3.6/site-packages/matplotlib/backends/backend_agg.py:211: RuntimeWarning: Glyph 32426 missing from current font.\n",
      "  font.set_text(s, 0.0, flags=flags)\n",
      "/home/qinhao/anaconda3/envs/py3/lib/python3.6/site-packages/matplotlib/backends/backend_agg.py:180: RuntimeWarning: Glyph 19990 missing from current font.\n",
      "  font.set_text(s, 0, flags=flags)\n",
      "/home/qinhao/anaconda3/envs/py3/lib/python3.6/site-packages/matplotlib/backends/backend_agg.py:180: RuntimeWarning: Glyph 32426 missing from current font.\n",
      "  font.set_text(s, 0, flags=flags)\n",
      "/home/qinhao/anaconda3/envs/py3/lib/python3.6/site-packages/matplotlib/backends/backend_agg.py:211: RuntimeWarning: Glyph 33402 missing from current font.\n",
      "  font.set_text(s, 0.0, flags=flags)\n",
      "/home/qinhao/anaconda3/envs/py3/lib/python3.6/site-packages/matplotlib/backends/backend_agg.py:211: RuntimeWarning: Glyph 22797 missing from current font.\n",
      "  font.set_text(s, 0.0, flags=flags)\n",
      "/home/qinhao/anaconda3/envs/py3/lib/python3.6/site-packages/matplotlib/backends/backend_agg.py:211: RuntimeWarning: Glyph 20852 missing from current font.\n",
      "  font.set_text(s, 0.0, flags=flags)\n",
      "/home/qinhao/anaconda3/envs/py3/lib/python3.6/site-packages/matplotlib/backends/backend_agg.py:180: RuntimeWarning: Glyph 33402 missing from current font.\n",
      "  font.set_text(s, 0, flags=flags)\n",
      "/home/qinhao/anaconda3/envs/py3/lib/python3.6/site-packages/matplotlib/backends/backend_agg.py:180: RuntimeWarning: Glyph 22797 missing from current font.\n",
      "  font.set_text(s, 0, flags=flags)\n",
      "/home/qinhao/anaconda3/envs/py3/lib/python3.6/site-packages/matplotlib/backends/backend_agg.py:180: RuntimeWarning: Glyph 20852 missing from current font.\n",
      "  font.set_text(s, 0, flags=flags)\n",
      "/home/qinhao/anaconda3/envs/py3/lib/python3.6/site-packages/matplotlib/backends/backend_agg.py:211: RuntimeWarning: Glyph 26102 missing from current font.\n",
      "  font.set_text(s, 0.0, flags=flags)\n",
      "/home/qinhao/anaconda3/envs/py3/lib/python3.6/site-packages/matplotlib/backends/backend_agg.py:211: RuntimeWarning: Glyph 26399 missing from current font.\n",
      "  font.set_text(s, 0.0, flags=flags)\n",
      "/home/qinhao/anaconda3/envs/py3/lib/python3.6/site-packages/matplotlib/backends/backend_agg.py:180: RuntimeWarning: Glyph 26102 missing from current font.\n",
      "  font.set_text(s, 0, flags=flags)\n",
      "/home/qinhao/anaconda3/envs/py3/lib/python3.6/site-packages/matplotlib/backends/backend_agg.py:180: RuntimeWarning: Glyph 26399 missing from current font.\n",
      "  font.set_text(s, 0, flags=flags)\n",
      "/home/qinhao/anaconda3/envs/py3/lib/python3.6/site-packages/matplotlib/backends/backend_agg.py:211: RuntimeWarning: Glyph 29616 missing from current font.\n",
      "  font.set_text(s, 0.0, flags=flags)\n",
      "/home/qinhao/anaconda3/envs/py3/lib/python3.6/site-packages/matplotlib/backends/backend_agg.py:180: RuntimeWarning: Glyph 29616 missing from current font.\n",
      "  font.set_text(s, 0, flags=flags)\n",
      "/home/qinhao/anaconda3/envs/py3/lib/python3.6/site-packages/matplotlib/backends/backend_agg.py:211: RuntimeWarning: Glyph 38761 missing from current font.\n",
      "  font.set_text(s, 0.0, flags=flags)\n",
      "/home/qinhao/anaconda3/envs/py3/lib/python3.6/site-packages/matplotlib/backends/backend_agg.py:211: RuntimeWarning: Glyph 26032 missing from current font.\n",
      "  font.set_text(s, 0.0, flags=flags)\n",
      "/home/qinhao/anaconda3/envs/py3/lib/python3.6/site-packages/matplotlib/backends/backend_agg.py:180: RuntimeWarning: Glyph 38761 missing from current font.\n",
      "  font.set_text(s, 0, flags=flags)\n",
      "/home/qinhao/anaconda3/envs/py3/lib/python3.6/site-packages/matplotlib/backends/backend_agg.py:180: RuntimeWarning: Glyph 26032 missing from current font.\n",
      "  font.set_text(s, 0, flags=flags)\n",
      "/home/qinhao/anaconda3/envs/py3/lib/python3.6/site-packages/matplotlib/backends/backend_agg.py:211: RuntimeWarning: Glyph 20132 missing from current font.\n",
      "  font.set_text(s, 0.0, flags=flags)\n",
      "/home/qinhao/anaconda3/envs/py3/lib/python3.6/site-packages/matplotlib/backends/backend_agg.py:211: RuntimeWarning: Glyph 20114 missing from current font.\n",
      "  font.set_text(s, 0.0, flags=flags)\n",
      "/home/qinhao/anaconda3/envs/py3/lib/python3.6/site-packages/matplotlib/backends/backend_agg.py:180: RuntimeWarning: Glyph 20132 missing from current font.\n",
      "  font.set_text(s, 0, flags=flags)\n",
      "/home/qinhao/anaconda3/envs/py3/lib/python3.6/site-packages/matplotlib/backends/backend_agg.py:180: RuntimeWarning: Glyph 20114 missing from current font.\n",
      "  font.set_text(s, 0, flags=flags)\n",
      "/home/qinhao/anaconda3/envs/py3/lib/python3.6/site-packages/matplotlib/backends/backend_agg.py:211: RuntimeWarning: Glyph 33268 missing from current font.\n",
      "  font.set_text(s, 0.0, flags=flags)\n",
      "/home/qinhao/anaconda3/envs/py3/lib/python3.6/site-packages/matplotlib/backends/backend_agg.py:180: RuntimeWarning: Glyph 33268 missing from current font.\n",
      "  font.set_text(s, 0, flags=flags)\n",
      "/home/qinhao/anaconda3/envs/py3/lib/python3.6/site-packages/matplotlib/backends/backend_agg.py:211: RuntimeWarning: Glyph 21152 missing from current font.\n",
      "  font.set_text(s, 0.0, flags=flags)\n",
      "/home/qinhao/anaconda3/envs/py3/lib/python3.6/site-packages/matplotlib/backends/backend_agg.py:211: RuntimeWarning: Glyph 36895 missing from current font.\n",
      "  font.set_text(s, 0.0, flags=flags)\n",
      "/home/qinhao/anaconda3/envs/py3/lib/python3.6/site-packages/matplotlib/backends/backend_agg.py:180: RuntimeWarning: Glyph 21152 missing from current font.\n",
      "  font.set_text(s, 0, flags=flags)\n",
      "/home/qinhao/anaconda3/envs/py3/lib/python3.6/site-packages/matplotlib/backends/backend_agg.py:180: RuntimeWarning: Glyph 36895 missing from current font.\n",
      "  font.set_text(s, 0, flags=flags)\n",
      "/home/qinhao/anaconda3/envs/py3/lib/python3.6/site-packages/matplotlib/backends/backend_agg.py:211: RuntimeWarning: Glyph 30452 missing from current font.\n",
      "  font.set_text(s, 0.0, flags=flags)\n",
      "/home/qinhao/anaconda3/envs/py3/lib/python3.6/site-packages/matplotlib/backends/backend_agg.py:211: RuntimeWarning: Glyph 33267 missing from current font.\n",
      "  font.set_text(s, 0.0, flags=flags)\n",
      "/home/qinhao/anaconda3/envs/py3/lib/python3.6/site-packages/matplotlib/backends/backend_agg.py:180: RuntimeWarning: Glyph 30452 missing from current font.\n",
      "  font.set_text(s, 0, flags=flags)\n",
      "/home/qinhao/anaconda3/envs/py3/lib/python3.6/site-packages/matplotlib/backends/backend_agg.py:180: RuntimeWarning: Glyph 33267 missing from current font.\n",
      "  font.set_text(s, 0, flags=flags)\n",
      "/home/qinhao/anaconda3/envs/py3/lib/python3.6/site-packages/matplotlib/backends/backend_agg.py:211: RuntimeWarning: Glyph 20170 missing from current font.\n",
      "  font.set_text(s, 0.0, flags=flags)\n",
      "/home/qinhao/anaconda3/envs/py3/lib/python3.6/site-packages/matplotlib/backends/backend_agg.py:211: RuntimeWarning: Glyph 26085 missing from current font.\n",
      "  font.set_text(s, 0.0, flags=flags)\n",
      "/home/qinhao/anaconda3/envs/py3/lib/python3.6/site-packages/matplotlib/backends/backend_agg.py:180: RuntimeWarning: Glyph 20170 missing from current font.\n",
      "  font.set_text(s, 0, flags=flags)\n",
      "/home/qinhao/anaconda3/envs/py3/lib/python3.6/site-packages/matplotlib/backends/backend_agg.py:180: RuntimeWarning: Glyph 26085 missing from current font.\n",
      "  font.set_text(s, 0, flags=flags)\n",
      "/home/qinhao/anaconda3/envs/py3/lib/python3.6/site-packages/matplotlib/backends/backend_agg.py:211: RuntimeWarning: Glyph 25104 missing from current font.\n",
      "  font.set_text(s, 0.0, flags=flags)\n",
      "/home/qinhao/anaconda3/envs/py3/lib/python3.6/site-packages/matplotlib/backends/backend_agg.py:180: RuntimeWarning: Glyph 25104 missing from current font.\n",
      "  font.set_text(s, 0, flags=flags)\n",
      "/home/qinhao/anaconda3/envs/py3/lib/python3.6/site-packages/matplotlib/backends/backend_agg.py:211: RuntimeWarning: Glyph 35768 missing from current font.\n",
      "  font.set_text(s, 0.0, flags=flags)\n",
      "/home/qinhao/anaconda3/envs/py3/lib/python3.6/site-packages/matplotlib/backends/backend_agg.py:211: RuntimeWarning: Glyph 22810 missing from current font.\n",
      "  font.set_text(s, 0.0, flags=flags)\n",
      "/home/qinhao/anaconda3/envs/py3/lib/python3.6/site-packages/matplotlib/backends/backend_agg.py:180: RuntimeWarning: Glyph 35768 missing from current font.\n",
      "  font.set_text(s, 0, flags=flags)\n",
      "/home/qinhao/anaconda3/envs/py3/lib/python3.6/site-packages/matplotlib/backends/backend_agg.py:180: RuntimeWarning: Glyph 22810 missing from current font.\n",
      "  font.set_text(s, 0, flags=flags)\n",
      "/home/qinhao/anaconda3/envs/py3/lib/python3.6/site-packages/matplotlib/backends/backend_agg.py:211: RuntimeWarning: Glyph 22269 missing from current font.\n",
      "  font.set_text(s, 0.0, flags=flags)\n",
      "/home/qinhao/anaconda3/envs/py3/lib/python3.6/site-packages/matplotlib/backends/backend_agg.py:180: RuntimeWarning: Glyph 22269 missing from current font.\n",
      "  font.set_text(s, 0, flags=flags)\n",
      "/home/qinhao/anaconda3/envs/py3/lib/python3.6/site-packages/matplotlib/backends/backend_agg.py:211: RuntimeWarning: Glyph 22320 missing from current font.\n",
      "  font.set_text(s, 0.0, flags=flags)\n",
      "/home/qinhao/anaconda3/envs/py3/lib/python3.6/site-packages/matplotlib/backends/backend_agg.py:211: RuntimeWarning: Glyph 21306 missing from current font.\n",
      "  font.set_text(s, 0.0, flags=flags)\n",
      "/home/qinhao/anaconda3/envs/py3/lib/python3.6/site-packages/matplotlib/backends/backend_agg.py:180: RuntimeWarning: Glyph 22320 missing from current font.\n",
      "  font.set_text(s, 0, flags=flags)\n",
      "/home/qinhao/anaconda3/envs/py3/lib/python3.6/site-packages/matplotlib/backends/backend_agg.py:180: RuntimeWarning: Glyph 21306 missing from current font.\n",
      "  font.set_text(s, 0, flags=flags)\n",
      "/home/qinhao/anaconda3/envs/py3/lib/python3.6/site-packages/matplotlib/backends/backend_agg.py:211: RuntimeWarning: Glyph 25945 missing from current font.\n",
      "  font.set_text(s, 0.0, flags=flags)\n",
      "/home/qinhao/anaconda3/envs/py3/lib/python3.6/site-packages/matplotlib/backends/backend_agg.py:211: RuntimeWarning: Glyph 32946 missing from current font.\n",
      "  font.set_text(s, 0.0, flags=flags)\n",
      "/home/qinhao/anaconda3/envs/py3/lib/python3.6/site-packages/matplotlib/backends/backend_agg.py:180: RuntimeWarning: Glyph 25945 missing from current font.\n",
      "  font.set_text(s, 0, flags=flags)\n",
      "/home/qinhao/anaconda3/envs/py3/lib/python3.6/site-packages/matplotlib/backends/backend_agg.py:180: RuntimeWarning: Glyph 32946 missing from current font.\n",
      "  font.set_text(s, 0, flags=flags)\n",
      "/home/qinhao/anaconda3/envs/py3/lib/python3.6/site-packages/matplotlib/backends/backend_agg.py:211: RuntimeWarning: Glyph 33539 missing from current font.\n",
      "  font.set_text(s, 0.0, flags=flags)\n",
      "/home/qinhao/anaconda3/envs/py3/lib/python3.6/site-packages/matplotlib/backends/backend_agg.py:211: RuntimeWarning: Glyph 30068 missing from current font.\n",
      "  font.set_text(s, 0.0, flags=flags)\n",
      "/home/qinhao/anaconda3/envs/py3/lib/python3.6/site-packages/matplotlib/backends/backend_agg.py:180: RuntimeWarning: Glyph 33539 missing from current font.\n",
      "  font.set_text(s, 0, flags=flags)\n",
      "/home/qinhao/anaconda3/envs/py3/lib/python3.6/site-packages/matplotlib/backends/backend_agg.py:180: RuntimeWarning: Glyph 30068 missing from current font.\n",
      "  font.set_text(s, 0, flags=flags)\n",
      "/home/qinhao/anaconda3/envs/py3/lib/python3.6/site-packages/matplotlib/backends/backend_agg.py:211: RuntimeWarning: Glyph 37096 missing from current font.\n",
      "  font.set_text(s, 0.0, flags=flags)\n",
      "/home/qinhao/anaconda3/envs/py3/lib/python3.6/site-packages/matplotlib/backends/backend_agg.py:211: RuntimeWarning: Glyph 20998 missing from current font.\n",
      "  font.set_text(s, 0.0, flags=flags)\n",
      "/home/qinhao/anaconda3/envs/py3/lib/python3.6/site-packages/matplotlib/backends/backend_agg.py:180: RuntimeWarning: Glyph 37096 missing from current font.\n",
      "  font.set_text(s, 0, flags=flags)\n",
      "/home/qinhao/anaconda3/envs/py3/lib/python3.6/site-packages/matplotlib/backends/backend_agg.py:180: RuntimeWarning: Glyph 20998 missing from current font.\n",
      "  font.set_text(s, 0, flags=flags)\n",
      "/home/qinhao/anaconda3/envs/py3/lib/python3.6/site-packages/matplotlib/backends/backend_agg.py:211: RuntimeWarning: Glyph 21516 missing from current font.\n",
      "  font.set_text(s, 0.0, flags=flags)\n",
      "/home/qinhao/anaconda3/envs/py3/lib/python3.6/site-packages/matplotlib/backends/backend_agg.py:180: RuntimeWarning: Glyph 21516 missing from current font.\n",
      "  font.set_text(s, 0, flags=flags)\n",
      "/home/qinhao/anaconda3/envs/py3/lib/python3.6/site-packages/matplotlib/backends/backend_agg.py:211: RuntimeWarning: Glyph 39046 missing from current font.\n",
      "  font.set_text(s, 0.0, flags=flags)\n",
      "/home/qinhao/anaconda3/envs/py3/lib/python3.6/site-packages/matplotlib/backends/backend_agg.py:211: RuntimeWarning: Glyph 22495 missing from current font.\n",
      "  font.set_text(s, 0.0, flags=flags)\n",
      "/home/qinhao/anaconda3/envs/py3/lib/python3.6/site-packages/matplotlib/backends/backend_agg.py:180: RuntimeWarning: Glyph 39046 missing from current font.\n",
      "  font.set_text(s, 0, flags=flags)\n",
      "/home/qinhao/anaconda3/envs/py3/lib/python3.6/site-packages/matplotlib/backends/backend_agg.py:180: RuntimeWarning: Glyph 22495 missing from current font.\n",
      "  font.set_text(s, 0, flags=flags)\n",
      "/home/qinhao/anaconda3/envs/py3/lib/python3.6/site-packages/matplotlib/backends/backend_agg.py:211: RuntimeWarning: Glyph 21253 missing from current font.\n",
      "  font.set_text(s, 0.0, flags=flags)\n",
      "/home/qinhao/anaconda3/envs/py3/lib/python3.6/site-packages/matplotlib/backends/backend_agg.py:211: RuntimeWarning: Glyph 25324 missing from current font.\n",
      "  font.set_text(s, 0.0, flags=flags)\n",
      "/home/qinhao/anaconda3/envs/py3/lib/python3.6/site-packages/matplotlib/backends/backend_agg.py:180: RuntimeWarning: Glyph 21253 missing from current font.\n",
      "  font.set_text(s, 0, flags=flags)\n",
      "/home/qinhao/anaconda3/envs/py3/lib/python3.6/site-packages/matplotlib/backends/backend_agg.py:180: RuntimeWarning: Glyph 25324 missing from current font.\n",
      "  font.set_text(s, 0, flags=flags)\n",
      "/home/qinhao/anaconda3/envs/py3/lib/python3.6/site-packages/matplotlib/backends/backend_agg.py:211: RuntimeWarning: Glyph 24037 missing from current font.\n",
      "  font.set_text(s, 0.0, flags=flags)\n",
      "/home/qinhao/anaconda3/envs/py3/lib/python3.6/site-packages/matplotlib/backends/backend_agg.py:211: RuntimeWarning: Glyph 31243 missing from current font.\n",
      "  font.set_text(s, 0.0, flags=flags)\n",
      "/home/qinhao/anaconda3/envs/py3/lib/python3.6/site-packages/matplotlib/backends/backend_agg.py:180: RuntimeWarning: Glyph 24037 missing from current font.\n",
      "  font.set_text(s, 0, flags=flags)\n",
      "/home/qinhao/anaconda3/envs/py3/lib/python3.6/site-packages/matplotlib/backends/backend_agg.py:180: RuntimeWarning: Glyph 31243 missing from current font.\n",
      "  font.set_text(s, 0, flags=flags)\n",
      "/home/qinhao/anaconda3/envs/py3/lib/python3.6/site-packages/matplotlib/backends/backend_agg.py:211: RuntimeWarning: Glyph 21307 missing from current font.\n",
      "  font.set_text(s, 0.0, flags=flags)\n",
      "/home/qinhao/anaconda3/envs/py3/lib/python3.6/site-packages/matplotlib/backends/backend_agg.py:180: RuntimeWarning: Glyph 21307 missing from current font.\n",
      "  font.set_text(s, 0, flags=flags)\n",
      "/home/qinhao/anaconda3/envs/py3/lib/python3.6/site-packages/matplotlib/backends/backend_agg.py:211: RuntimeWarning: Glyph 32463 missing from current font.\n",
      "  font.set_text(s, 0.0, flags=flags)\n",
      "/home/qinhao/anaconda3/envs/py3/lib/python3.6/site-packages/matplotlib/backends/backend_agg.py:211: RuntimeWarning: Glyph 27982 missing from current font.\n",
      "  font.set_text(s, 0.0, flags=flags)\n",
      "/home/qinhao/anaconda3/envs/py3/lib/python3.6/site-packages/matplotlib/backends/backend_agg.py:180: RuntimeWarning: Glyph 32463 missing from current font.\n",
      "  font.set_text(s, 0, flags=flags)\n",
      "/home/qinhao/anaconda3/envs/py3/lib/python3.6/site-packages/matplotlib/backends/backend_agg.py:180: RuntimeWarning: Glyph 27982 missing from current font.\n",
      "  font.set_text(s, 0, flags=flags)\n",
      "/home/qinhao/anaconda3/envs/py3/lib/python3.6/site-packages/matplotlib/backends/backend_agg.py:211: RuntimeWarning: Glyph 37329 missing from current font.\n",
      "  font.set_text(s, 0.0, flags=flags)\n",
      "/home/qinhao/anaconda3/envs/py3/lib/python3.6/site-packages/matplotlib/backends/backend_agg.py:211: RuntimeWarning: Glyph 34701 missing from current font.\n",
      "  font.set_text(s, 0.0, flags=flags)\n",
      "/home/qinhao/anaconda3/envs/py3/lib/python3.6/site-packages/matplotlib/backends/backend_agg.py:180: RuntimeWarning: Glyph 37329 missing from current font.\n",
      "  font.set_text(s, 0, flags=flags)\n",
      "/home/qinhao/anaconda3/envs/py3/lib/python3.6/site-packages/matplotlib/backends/backend_agg.py:180: RuntimeWarning: Glyph 34701 missing from current font.\n",
      "  font.set_text(s, 0, flags=flags)\n",
      "/home/qinhao/anaconda3/envs/py3/lib/python3.6/site-packages/matplotlib/backends/backend_agg.py:211: RuntimeWarning: Glyph 24212 missing from current font.\n",
      "  font.set_text(s, 0.0, flags=flags)\n",
      "/home/qinhao/anaconda3/envs/py3/lib/python3.6/site-packages/matplotlib/backends/backend_agg.py:180: RuntimeWarning: Glyph 24212 missing from current font.\n",
      "  font.set_text(s, 0, flags=flags)\n",
      "/home/qinhao/anaconda3/envs/py3/lib/python3.6/site-packages/matplotlib/backends/backend_agg.py:211: RuntimeWarning: Glyph 36890 missing from current font.\n",
      "  font.set_text(s, 0.0, flags=flags)\n",
      "/home/qinhao/anaconda3/envs/py3/lib/python3.6/site-packages/matplotlib/backends/backend_agg.py:211: RuntimeWarning: Glyph 24120 missing from current font.\n",
      "  font.set_text(s, 0.0, flags=flags)\n",
      "/home/qinhao/anaconda3/envs/py3/lib/python3.6/site-packages/matplotlib/backends/backend_agg.py:180: RuntimeWarning: Glyph 36890 missing from current font.\n",
      "  font.set_text(s, 0, flags=flags)\n",
      "/home/qinhao/anaconda3/envs/py3/lib/python3.6/site-packages/matplotlib/backends/backend_agg.py:180: RuntimeWarning: Glyph 24120 missing from current font.\n",
      "  font.set_text(s, 0, flags=flags)\n",
      "/home/qinhao/anaconda3/envs/py3/lib/python3.6/site-packages/matplotlib/backends/backend_agg.py:211: RuntimeWarning: Glyph 31216 missing from current font.\n",
      "  font.set_text(s, 0.0, flags=flags)\n",
      "/home/qinhao/anaconda3/envs/py3/lib/python3.6/site-packages/matplotlib/backends/backend_agg.py:180: RuntimeWarning: Glyph 31216 missing from current font.\n",
      "  font.set_text(s, 0, flags=flags)\n",
      "/home/qinhao/anaconda3/envs/py3/lib/python3.6/site-packages/matplotlib/backends/backend_agg.py:211: RuntimeWarning: Glyph 26377 missing from current font.\n",
      "  font.set_text(s, 0.0, flags=flags)\n",
      "/home/qinhao/anaconda3/envs/py3/lib/python3.6/site-packages/matplotlib/backends/backend_agg.py:180: RuntimeWarning: Glyph 26377 missing from current font.\n",
      "  font.set_text(s, 0, flags=flags)\n",
      "/home/qinhao/anaconda3/envs/py3/lib/python3.6/site-packages/matplotlib/backends/backend_agg.py:211: RuntimeWarning: Glyph 20134 missing from current font.\n",
      "  font.set_text(s, 0.0, flags=flags)\n",
      "/home/qinhao/anaconda3/envs/py3/lib/python3.6/site-packages/matplotlib/backends/backend_agg.py:176: RuntimeWarning: Glyph 20134 missing from current font.\n",
      "  font.load_char(ord(s), flags=flags)\n",
      "/home/qinhao/anaconda3/envs/py3/lib/python3.6/site-packages/matplotlib/backends/backend_agg.py:211: RuntimeWarning: Glyph 28608 missing from current font.\n",
      "  font.set_text(s, 0.0, flags=flags)\n",
      "/home/qinhao/anaconda3/envs/py3/lib/python3.6/site-packages/matplotlib/backends/backend_agg.py:211: RuntimeWarning: Glyph 36215 missing from current font.\n",
      "  font.set_text(s, 0.0, flags=flags)\n",
      "/home/qinhao/anaconda3/envs/py3/lib/python3.6/site-packages/matplotlib/backends/backend_agg.py:180: RuntimeWarning: Glyph 28608 missing from current font.\n",
      "  font.set_text(s, 0, flags=flags)\n",
      "/home/qinhao/anaconda3/envs/py3/lib/python3.6/site-packages/matplotlib/backends/backend_agg.py:180: RuntimeWarning: Glyph 36215 missing from current font.\n",
      "  font.set_text(s, 0, flags=flags)\n"
     ]
    },
    {
     "data": {
      "image/png": "[encoded data removed]",
      "text/plain": [
       "<Figure size 1152x1152 with 1 Axes>"
      ]
     },
     "metadata": {
      "needs_background": "light"
     },
     "output_type": "display_data"
    }
   ],
   "source": [
    "tsne_plot(model)"
   ]
  }
 ],
 "metadata": {
  "kernelspec": {
   "display_name": "py3",
   "language": "python",
   "name": "py3"
  },
  "language_info": {
   "codemirror_mode": {
    "name": "ipython",
    "version": 3
   },
   "file_extension": ".py",
   "mimetype": "text/x-python",
   "name": "python",
   "nbconvert_exporter": "python",
   "pygments_lexer": "ipython3",
   "version": "3.6.9"
  }
 },
 "nbformat": 4,
 "nbformat_minor": 2
}
